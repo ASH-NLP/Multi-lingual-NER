{
 "cells": [
  {
   "cell_type": "markdown",
   "id": "920802e3-654e-4bc7-b73c-b5d3dd352fe6",
   "metadata": {},
   "source": [
    "## Load Data"
   ]
  },
  {
   "cell_type": "code",
   "execution_count": 1,
   "id": "b3332059-ec37-459d-aefa-1c3798b1f878",
   "metadata": {},
   "outputs": [],
   "source": [
    "import pandas as pd"
   ]
  },
  {
   "cell_type": "code",
   "execution_count": 35,
   "id": "470aac76-00ba-414f-993d-c9e5453453c9",
   "metadata": {},
   "outputs": [],
   "source": [
    "def load_data(name, test=False):\n",
    "    df = pd.read_csv(PATH + '/' + name)\n",
    "    df.columns = ['index', 'Token', 'Tag']\n",
    "    if test:\n",
    "        df.drop('Tag', axis=1, inplace=True)\n",
    "    df.set_index('index')\n",
    "    return df"
   ]
  },
  {
   "cell_type": "code",
   "execution_count": 36,
   "id": "a4f6e218-f1a1-4b67-a4a9-1e835bd69828",
   "metadata": {},
   "outputs": [],
   "source": [
    "PATH = 'data/'\n",
    "PATH = PATH.rstrip('/')\n",
    "\n",
    "# EN Train\n",
    "en_train = load_data('en_train.csv')\n",
    "\n",
    "# EN Test\n",
    "en_test = load_data('en_test.csv', test=True)\n",
    "\n",
    "# FA Train\n",
    "fa_train = load_data('fa_train.csv')\n",
    "\n",
    "# FA TEST\n",
    "fa_test = load_data('fa_test.csv', test=True)"
   ]
  }
 ],
 "metadata": {
  "kernelspec": {
   "display_name": "Python 3 (ipykernel)",
   "language": "python",
   "name": "python3"
  },
  "language_info": {
   "codemirror_mode": {
    "name": "ipython",
    "version": 3
   },
   "file_extension": ".py",
   "mimetype": "text/x-python",
   "name": "python",
   "nbconvert_exporter": "python",
   "pygments_lexer": "ipython3",
   "version": "3.8.11"
  }
 },
 "nbformat": 4,
 "nbformat_minor": 5
}

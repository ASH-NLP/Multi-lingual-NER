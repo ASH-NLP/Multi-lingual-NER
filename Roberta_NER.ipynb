{
  "cells": [
    {
      "cell_type": "markdown",
      "id": "920802e3-654e-4bc7-b73c-b5d3dd352fe6",
      "metadata": {
        "id": "920802e3-654e-4bc7-b73c-b5d3dd352fe6"
      },
      "source": [
        "## Load Data"
      ]
    },
    {
      "cell_type": "code",
      "execution_count": 228,
      "id": "b3332059-ec37-459d-aefa-1c3798b1f878",
      "metadata": {
        "id": "b3332059-ec37-459d-aefa-1c3798b1f878"
      },
      "outputs": [],
      "source": [
        "import pandas as pd"
      ]
    },
    {
      "cell_type": "code",
      "execution_count": 248,
      "id": "470aac76-00ba-414f-993d-c9e5453453c9",
      "metadata": {
        "id": "470aac76-00ba-414f-993d-c9e5453453c9"
      },
      "outputs": [],
      "source": [
        "def load_data(name, test=False):\n",
        "    print(f'Processing {name}')\n",
        "    df = pd.read_csv(PATH + '/' + name)\n",
        "    df.columns = ['index', 'Token', 'Tag']\n",
        "    df.set_index('index', drop=True, inplace=True)\n",
        "    mask = df.Token.str.startswith('# id')\n",
        "    indices = list(map(lambda x:x+1, df.index[mask].tolist())) + [df.index[-1]]\n",
        "    sentence = 0\n",
        "    df['Sent'] = None\n",
        "    for index in tqdm(range(len(indices)-1)):\n",
        "        df.loc[indices[index]:indices[index+1], 'Sent'] = sentence\n",
        "        sentence += 1\n",
        "    df.drop(df.index[mask], inplace=True)\n",
        "    df.set_index('Sent',append=True, inplace=True)\n",
        "    if test:\n",
        "      df.drop(columns='Tag', inplace=True)\n",
        "    return df"
      ]
    },
    {
      "cell_type": "code",
      "execution_count": 249,
      "id": "a4f6e218-f1a1-4b67-a4a9-1e835bd69828",
      "metadata": {
        "colab": {
          "base_uri": "https://localhost:8080/"
        },
        "id": "a4f6e218-f1a1-4b67-a4a9-1e835bd69828",
        "outputId": "0b52224a-3148-4883-baf2-11003366f843"
      },
      "outputs": [
        {
          "output_type": "stream",
          "name": "stdout",
          "text": [
            "Processing en_train.csv\n"
          ]
        },
        {
          "output_type": "stream",
          "name": "stderr",
          "text": [
            "100%|██████████| 15300/15300 [00:01<00:00, 9189.92it/s]\n"
          ]
        },
        {
          "output_type": "stream",
          "name": "stdout",
          "text": [
            "Processing en_test.csv\n"
          ]
        },
        {
          "output_type": "stream",
          "name": "stderr",
          "text": [
            "100%|██████████| 800/800 [00:00<00:00, 1855.76it/s]\n"
          ]
        },
        {
          "output_type": "stream",
          "name": "stdout",
          "text": [
            "Processing fa_train.csv\n"
          ]
        },
        {
          "output_type": "stream",
          "name": "stderr",
          "text": [
            "100%|██████████| 15300/15300 [00:01<00:00, 8964.88it/s]\n"
          ]
        },
        {
          "output_type": "stream",
          "name": "stdout",
          "text": [
            "Processing fa_test.csv\n"
          ]
        },
        {
          "output_type": "stream",
          "name": "stderr",
          "text": [
            "100%|██████████| 800/800 [00:00<00:00, 1671.81it/s]\n"
          ]
        }
      ],
      "source": [
        "PATH = 'data/'\n",
        "PATH = PATH.rstrip('/')\n",
        "\n",
        "# EN Train\n",
        "en_train_data = load_data('en_train.csv')\n",
        "\n",
        "# EN Test\n",
        "en_test = load_data('en_test.csv', test=True)\n",
        "# FA Train\n",
        "fa_train_data = load_data('fa_train.csv')\n",
        "\n",
        "# FA TEST\n",
        "fa_test = load_data('fa_test.csv', test=True)"
      ]
    },
    {
      "cell_type": "code",
      "source": [
        "fa_train_data"
      ],
      "metadata": {
        "colab": {
          "base_uri": "https://localhost:8080/",
          "height": 455
        },
        "id": "mKkCEPlFuClO",
        "outputId": "b0c28472-7089-42b8-ded1-bf46e1ebf166"
      },
      "id": "mKkCEPlFuClO",
      "execution_count": 250,
      "outputs": [
        {
          "output_type": "execute_result",
          "data": {
            "text/html": [
              "\n",
              "  <div id=\"df-ed40213e-3761-4c13-907b-140c6a04d405\">\n",
              "    <div class=\"colab-df-container\">\n",
              "      <div>\n",
              "<style scoped>\n",
              "    .dataframe tbody tr th:only-of-type {\n",
              "        vertical-align: middle;\n",
              "    }\n",
              "\n",
              "    .dataframe tbody tr th {\n",
              "        vertical-align: top;\n",
              "    }\n",
              "\n",
              "    .dataframe thead th {\n",
              "        text-align: right;\n",
              "    }\n",
              "</style>\n",
              "<table border=\"1\" class=\"dataframe\">\n",
              "  <thead>\n",
              "    <tr style=\"text-align: right;\">\n",
              "      <th></th>\n",
              "      <th></th>\n",
              "      <th>Token</th>\n",
              "      <th>Tag</th>\n",
              "    </tr>\n",
              "    <tr>\n",
              "      <th>index</th>\n",
              "      <th>Sent</th>\n",
              "      <th></th>\n",
              "      <th></th>\n",
              "    </tr>\n",
              "  </thead>\n",
              "  <tbody>\n",
              "    <tr>\n",
              "      <th>1</th>\n",
              "      <th>0</th>\n",
              "      <td>مردی</td>\n",
              "      <td>B-CW</td>\n",
              "    </tr>\n",
              "    <tr>\n",
              "      <th>2</th>\n",
              "      <th>0</th>\n",
              "      <td>برای</td>\n",
              "      <td>I-CW</td>\n",
              "    </tr>\n",
              "    <tr>\n",
              "      <th>3</th>\n",
              "      <th>0</th>\n",
              "      <td>تمام</td>\n",
              "      <td>I-CW</td>\n",
              "    </tr>\n",
              "    <tr>\n",
              "      <th>4</th>\n",
              "      <th>0</th>\n",
              "      <td>فصول</td>\n",
              "      <td>I-CW</td>\n",
              "    </tr>\n",
              "    <tr>\n",
              "      <th>5</th>\n",
              "      <th>0</th>\n",
              "      <td>–</td>\n",
              "      <td>O</td>\n",
              "    </tr>\n",
              "    <tr>\n",
              "      <th>...</th>\n",
              "      <th>...</th>\n",
              "      <td>...</td>\n",
              "      <td>...</td>\n",
              "    </tr>\n",
              "    <tr>\n",
              "      <th>293541</th>\n",
              "      <th>15298</th>\n",
              "      <td>بلکسی</td>\n",
              "      <td>B-CORP</td>\n",
              "    </tr>\n",
              "    <tr>\n",
              "      <th>293542</th>\n",
              "      <th>15298</th>\n",
              "      <td>گرلز</td>\n",
              "      <td>I-CORP</td>\n",
              "    </tr>\n",
              "    <tr>\n",
              "      <th>293544</th>\n",
              "      <th>15299</th>\n",
              "      <td>ووپاک</td>\n",
              "      <td>B-CORP</td>\n",
              "    </tr>\n",
              "    <tr>\n",
              "      <th>293545</th>\n",
              "      <th>15299</th>\n",
              "      <td>مدیر</td>\n",
              "      <td>O</td>\n",
              "    </tr>\n",
              "    <tr>\n",
              "      <th>293546</th>\n",
              "      <th>15299</th>\n",
              "      <td>دانلود</td>\n",
              "      <td>O</td>\n",
              "    </tr>\n",
              "  </tbody>\n",
              "</table>\n",
              "<p>278247 rows × 2 columns</p>\n",
              "</div>\n",
              "      <button class=\"colab-df-convert\" onclick=\"convertToInteractive('df-ed40213e-3761-4c13-907b-140c6a04d405')\"\n",
              "              title=\"Convert this dataframe to an interactive table.\"\n",
              "              style=\"display:none;\">\n",
              "        \n",
              "  <svg xmlns=\"http://www.w3.org/2000/svg\" height=\"24px\"viewBox=\"0 0 24 24\"\n",
              "       width=\"24px\">\n",
              "    <path d=\"M0 0h24v24H0V0z\" fill=\"none\"/>\n",
              "    <path d=\"M18.56 5.44l.94 2.06.94-2.06 2.06-.94-2.06-.94-.94-2.06-.94 2.06-2.06.94zm-11 1L8.5 8.5l.94-2.06 2.06-.94-2.06-.94L8.5 2.5l-.94 2.06-2.06.94zm10 10l.94 2.06.94-2.06 2.06-.94-2.06-.94-.94-2.06-.94 2.06-2.06.94z\"/><path d=\"M17.41 7.96l-1.37-1.37c-.4-.4-.92-.59-1.43-.59-.52 0-1.04.2-1.43.59L10.3 9.45l-7.72 7.72c-.78.78-.78 2.05 0 2.83L4 21.41c.39.39.9.59 1.41.59.51 0 1.02-.2 1.41-.59l7.78-7.78 2.81-2.81c.8-.78.8-2.07 0-2.86zM5.41 20L4 18.59l7.72-7.72 1.47 1.35L5.41 20z\"/>\n",
              "  </svg>\n",
              "      </button>\n",
              "      \n",
              "  <style>\n",
              "    .colab-df-container {\n",
              "      display:flex;\n",
              "      flex-wrap:wrap;\n",
              "      gap: 12px;\n",
              "    }\n",
              "\n",
              "    .colab-df-convert {\n",
              "      background-color: #E8F0FE;\n",
              "      border: none;\n",
              "      border-radius: 50%;\n",
              "      cursor: pointer;\n",
              "      display: none;\n",
              "      fill: #1967D2;\n",
              "      height: 32px;\n",
              "      padding: 0 0 0 0;\n",
              "      width: 32px;\n",
              "    }\n",
              "\n",
              "    .colab-df-convert:hover {\n",
              "      background-color: #E2EBFA;\n",
              "      box-shadow: 0px 1px 2px rgba(60, 64, 67, 0.3), 0px 1px 3px 1px rgba(60, 64, 67, 0.15);\n",
              "      fill: #174EA6;\n",
              "    }\n",
              "\n",
              "    [theme=dark] .colab-df-convert {\n",
              "      background-color: #3B4455;\n",
              "      fill: #D2E3FC;\n",
              "    }\n",
              "\n",
              "    [theme=dark] .colab-df-convert:hover {\n",
              "      background-color: #434B5C;\n",
              "      box-shadow: 0px 1px 3px 1px rgba(0, 0, 0, 0.15);\n",
              "      filter: drop-shadow(0px 1px 2px rgba(0, 0, 0, 0.3));\n",
              "      fill: #FFFFFF;\n",
              "    }\n",
              "  </style>\n",
              "\n",
              "      <script>\n",
              "        const buttonEl =\n",
              "          document.querySelector('#df-ed40213e-3761-4c13-907b-140c6a04d405 button.colab-df-convert');\n",
              "        buttonEl.style.display =\n",
              "          google.colab.kernel.accessAllowed ? 'block' : 'none';\n",
              "\n",
              "        async function convertToInteractive(key) {\n",
              "          const element = document.querySelector('#df-ed40213e-3761-4c13-907b-140c6a04d405');\n",
              "          const dataTable =\n",
              "            await google.colab.kernel.invokeFunction('convertToInteractive',\n",
              "                                                     [key], {});\n",
              "          if (!dataTable) return;\n",
              "\n",
              "          const docLinkHtml = 'Like what you see? Visit the ' +\n",
              "            '<a target=\"_blank\" href=https://colab.research.google.com/notebooks/data_table.ipynb>data table notebook</a>'\n",
              "            + ' to learn more about interactive tables.';\n",
              "          element.innerHTML = '';\n",
              "          dataTable['output_type'] = 'display_data';\n",
              "          await google.colab.output.renderOutput(dataTable, element);\n",
              "          const docLink = document.createElement('div');\n",
              "          docLink.innerHTML = docLinkHtml;\n",
              "          element.appendChild(docLink);\n",
              "        }\n",
              "      </script>\n",
              "    </div>\n",
              "  </div>\n",
              "  "
            ],
            "text/plain": [
              "                Token      Tag\n",
              "index  Sent                   \n",
              "1      0        مردی      B-CW\n",
              "2      0        برای      I-CW\n",
              "3      0        تمام      I-CW\n",
              "4      0        فصول      I-CW\n",
              "5      0           –         O\n",
              "...               ...      ...\n",
              "293541 15298   بلکسی    B-CORP\n",
              "293542 15298    گرلز    I-CORP\n",
              "293544 15299   ووپاک    B-CORP\n",
              "293545 15299    مدیر         O\n",
              "293546 15299  دانلود         O\n",
              "\n",
              "[278247 rows x 2 columns]"
            ]
          },
          "metadata": {},
          "execution_count": 250
        }
      ]
    },
    {
      "cell_type": "markdown",
      "source": [
        "### Split Train Dataset"
      ],
      "metadata": {
        "id": "MpvYl7_GkJJs"
      },
      "id": "MpvYl7_GkJJs"
    },
    {
      "cell_type": "code",
      "source": [
        "from sklearn.model_selection import train_test_split"
      ],
      "metadata": {
        "id": "MfEcLeqCg_Xz"
      },
      "id": "MfEcLeqCg_Xz",
      "execution_count": 251,
      "outputs": []
    },
    {
      "cell_type": "code",
      "source": [
        "en_train, en_eval, en_train_label, en_eval_label = train_test_split(\n",
        "    en_train_data[['Token','Sent']], \n",
        "    en_train_data['Tag'], \n",
        "    test_size=0.2, \n",
        "    random_state=42)"
      ],
      "metadata": {
        "id": "YILU_2BHkseB"
      },
      "id": "YILU_2BHkseB",
      "execution_count": 238,
      "outputs": []
    },
    {
      "cell_type": "code",
      "source": [
        "fa_train, fa_eval, fa_train_label, fa_eval_label = train_test_split(\n",
        "    fa_train_data[['Token','Sent']], \n",
        "    fa_train_data['Tag'], \n",
        "    test_size=0.2, \n",
        "    random_state=42)"
      ],
      "metadata": {
        "id": "zpFUqSjvlXEs"
      },
      "id": "zpFUqSjvlXEs",
      "execution_count": 239,
      "outputs": []
    },
    {
      "cell_type": "code",
      "source": [
        "fa_train"
      ],
      "metadata": {
        "colab": {
          "base_uri": "https://localhost:8080/",
          "height": 423
        },
        "id": "uSP9tB9etlZw",
        "outputId": "c7d1c2be-adb9-4b4f-c92d-7c9270ae513c"
      },
      "id": "uSP9tB9etlZw",
      "execution_count": 157,
      "outputs": [
        {
          "output_type": "execute_result",
          "data": {
            "text/html": [
              "\n",
              "  <div id=\"df-86db3108-4fad-4b29-b15b-e0cca0af1d01\">\n",
              "    <div class=\"colab-df-container\">\n",
              "      <div>\n",
              "<style scoped>\n",
              "    .dataframe tbody tr th:only-of-type {\n",
              "        vertical-align: middle;\n",
              "    }\n",
              "\n",
              "    .dataframe tbody tr th {\n",
              "        vertical-align: top;\n",
              "    }\n",
              "\n",
              "    .dataframe thead th {\n",
              "        text-align: right;\n",
              "    }\n",
              "</style>\n",
              "<table border=\"1\" class=\"dataframe\">\n",
              "  <thead>\n",
              "    <tr style=\"text-align: right;\">\n",
              "      <th></th>\n",
              "      <th>Token</th>\n",
              "      <th>Sent</th>\n",
              "    </tr>\n",
              "  </thead>\n",
              "  <tbody>\n",
              "    <tr>\n",
              "      <th>258979</th>\n",
              "      <td>در</td>\n",
              "      <td>14189</td>\n",
              "    </tr>\n",
              "    <tr>\n",
              "      <th>143298</th>\n",
              "      <td>۸</td>\n",
              "      <td>7858</td>\n",
              "    </tr>\n",
              "    <tr>\n",
              "      <th>1143</th>\n",
              "      <td>تلویزیونی</td>\n",
              "      <td>62</td>\n",
              "    </tr>\n",
              "    <tr>\n",
              "      <th>123925</th>\n",
              "      <td>سال</td>\n",
              "      <td>6790</td>\n",
              "    </tr>\n",
              "    <tr>\n",
              "      <th>149123</th>\n",
              "      <td>بنیان</td>\n",
              "      <td>8182</td>\n",
              "    </tr>\n",
              "    <tr>\n",
              "      <th>...</th>\n",
              "      <td>...</td>\n",
              "      <td>...</td>\n",
              "    </tr>\n",
              "    <tr>\n",
              "      <th>119879</th>\n",
              "      <td>دیوولور</td>\n",
              "      <td>6576</td>\n",
              "    </tr>\n",
              "    <tr>\n",
              "      <th>259178</th>\n",
              "      <td>ینا</td>\n",
              "      <td>14199</td>\n",
              "    </tr>\n",
              "    <tr>\n",
              "      <th>131932</th>\n",
              "      <td>۱۰۲۵</td>\n",
              "      <td>7240</td>\n",
              "    </tr>\n",
              "    <tr>\n",
              "      <th>146867</th>\n",
              "      <td>فرانسیسکو</td>\n",
              "      <td>8055</td>\n",
              "    </tr>\n",
              "    <tr>\n",
              "      <th>121958</th>\n",
              "      <td>بنیامین</td>\n",
              "      <td>6684</td>\n",
              "    </tr>\n",
              "  </tbody>\n",
              "</table>\n",
              "<p>222597 rows × 2 columns</p>\n",
              "</div>\n",
              "      <button class=\"colab-df-convert\" onclick=\"convertToInteractive('df-86db3108-4fad-4b29-b15b-e0cca0af1d01')\"\n",
              "              title=\"Convert this dataframe to an interactive table.\"\n",
              "              style=\"display:none;\">\n",
              "        \n",
              "  <svg xmlns=\"http://www.w3.org/2000/svg\" height=\"24px\"viewBox=\"0 0 24 24\"\n",
              "       width=\"24px\">\n",
              "    <path d=\"M0 0h24v24H0V0z\" fill=\"none\"/>\n",
              "    <path d=\"M18.56 5.44l.94 2.06.94-2.06 2.06-.94-2.06-.94-.94-2.06-.94 2.06-2.06.94zm-11 1L8.5 8.5l.94-2.06 2.06-.94-2.06-.94L8.5 2.5l-.94 2.06-2.06.94zm10 10l.94 2.06.94-2.06 2.06-.94-2.06-.94-.94-2.06-.94 2.06-2.06.94z\"/><path d=\"M17.41 7.96l-1.37-1.37c-.4-.4-.92-.59-1.43-.59-.52 0-1.04.2-1.43.59L10.3 9.45l-7.72 7.72c-.78.78-.78 2.05 0 2.83L4 21.41c.39.39.9.59 1.41.59.51 0 1.02-.2 1.41-.59l7.78-7.78 2.81-2.81c.8-.78.8-2.07 0-2.86zM5.41 20L4 18.59l7.72-7.72 1.47 1.35L5.41 20z\"/>\n",
              "  </svg>\n",
              "      </button>\n",
              "      \n",
              "  <style>\n",
              "    .colab-df-container {\n",
              "      display:flex;\n",
              "      flex-wrap:wrap;\n",
              "      gap: 12px;\n",
              "    }\n",
              "\n",
              "    .colab-df-convert {\n",
              "      background-color: #E8F0FE;\n",
              "      border: none;\n",
              "      border-radius: 50%;\n",
              "      cursor: pointer;\n",
              "      display: none;\n",
              "      fill: #1967D2;\n",
              "      height: 32px;\n",
              "      padding: 0 0 0 0;\n",
              "      width: 32px;\n",
              "    }\n",
              "\n",
              "    .colab-df-convert:hover {\n",
              "      background-color: #E2EBFA;\n",
              "      box-shadow: 0px 1px 2px rgba(60, 64, 67, 0.3), 0px 1px 3px 1px rgba(60, 64, 67, 0.15);\n",
              "      fill: #174EA6;\n",
              "    }\n",
              "\n",
              "    [theme=dark] .colab-df-convert {\n",
              "      background-color: #3B4455;\n",
              "      fill: #D2E3FC;\n",
              "    }\n",
              "\n",
              "    [theme=dark] .colab-df-convert:hover {\n",
              "      background-color: #434B5C;\n",
              "      box-shadow: 0px 1px 3px 1px rgba(0, 0, 0, 0.15);\n",
              "      filter: drop-shadow(0px 1px 2px rgba(0, 0, 0, 0.3));\n",
              "      fill: #FFFFFF;\n",
              "    }\n",
              "  </style>\n",
              "\n",
              "      <script>\n",
              "        const buttonEl =\n",
              "          document.querySelector('#df-86db3108-4fad-4b29-b15b-e0cca0af1d01 button.colab-df-convert');\n",
              "        buttonEl.style.display =\n",
              "          google.colab.kernel.accessAllowed ? 'block' : 'none';\n",
              "\n",
              "        async function convertToInteractive(key) {\n",
              "          const element = document.querySelector('#df-86db3108-4fad-4b29-b15b-e0cca0af1d01');\n",
              "          const dataTable =\n",
              "            await google.colab.kernel.invokeFunction('convertToInteractive',\n",
              "                                                     [key], {});\n",
              "          if (!dataTable) return;\n",
              "\n",
              "          const docLinkHtml = 'Like what you see? Visit the ' +\n",
              "            '<a target=\"_blank\" href=https://colab.research.google.com/notebooks/data_table.ipynb>data table notebook</a>'\n",
              "            + ' to learn more about interactive tables.';\n",
              "          element.innerHTML = '';\n",
              "          dataTable['output_type'] = 'display_data';\n",
              "          await google.colab.output.renderOutput(dataTable, element);\n",
              "          const docLink = document.createElement('div');\n",
              "          docLink.innerHTML = docLinkHtml;\n",
              "          element.appendChild(docLink);\n",
              "        }\n",
              "      </script>\n",
              "    </div>\n",
              "  </div>\n",
              "  "
            ],
            "text/plain": [
              "             Token   Sent\n",
              "258979         در   14189\n",
              "143298          ۸    7858\n",
              "1143    تلویزیونی      62\n",
              "123925        سال    6790\n",
              "149123      بنیان    8182\n",
              "...            ...    ...\n",
              "119879    دیوولور    6576\n",
              "259178        ینا   14199\n",
              "131932       ۱۰۲۵    7240\n",
              "146867  فرانسیسکو    8055\n",
              "121958    بنیامین    6684\n",
              "\n",
              "[222597 rows x 2 columns]"
            ]
          },
          "metadata": {},
          "execution_count": 157
        }
      ]
    },
    {
      "cell_type": "markdown",
      "id": "95b2b062-facb-4d0a-a98b-d83cc43b299e",
      "metadata": {
        "id": "95b2b062-facb-4d0a-a98b-d83cc43b299e"
      },
      "source": [
        "## Pretrained Roberta Model"
      ]
    },
    {
      "cell_type": "code",
      "source": [
        "! pip install transformers --quiet"
      ],
      "metadata": {
        "id": "vzwia2_T3Yjl"
      },
      "id": "vzwia2_T3Yjl",
      "execution_count": 7,
      "outputs": []
    },
    {
      "cell_type": "code",
      "execution_count": 8,
      "id": "6c7b4afb-2970-414e-8199-6eb4fbb449e9",
      "metadata": {
        "id": "6c7b4afb-2970-414e-8199-6eb4fbb449e9"
      },
      "outputs": [],
      "source": [
        "import matplotlib.pyplot as plt\n",
        "import numpy as np\n",
        "\n",
        "# PyTorch\n",
        "import torch\n",
        "import torch.nn as nn\n",
        "import torch.optim as optim\n",
        "\n",
        "# Hugging Face\n",
        "from transformers import RobertaForTokenClassification, RobertaTokenizer\n",
        "from transformers import pipeline\n",
        "\n",
        "# tqdm\n",
        "from tqdm import tqdm"
      ]
    },
    {
      "cell_type": "markdown",
      "source": [
        "## Enlgish NER"
      ],
      "metadata": {
        "id": "4to6WB6R2_K-"
      },
      "id": "4to6WB6R2_K-"
    },
    {
      "cell_type": "code",
      "source": [
        ""
      ],
      "metadata": {
        "id": "RdcqKegp2-fX"
      },
      "id": "RdcqKegp2-fX",
      "execution_count": 8,
      "outputs": []
    },
    {
      "cell_type": "markdown",
      "source": [
        "## Persian NER"
      ],
      "metadata": {
        "id": "-my9Q8qE27Jg"
      },
      "id": "-my9Q8qE27Jg"
    },
    {
      "cell_type": "code",
      "execution_count": 263,
      "id": "a766a47e-d9d2-43f3-976e-fe6888c6e8cd",
      "metadata": {
        "id": "a766a47e-d9d2-43f3-976e-fe6888c6e8cd"
      },
      "outputs": [],
      "source": [
        "model_name_or_path = \"HooshvareLab/roberta-fa-zwnj-base-ner\" \n",
        "tokenizer = RobertaTokenizer.from_pretrained(model_name_or_path)\n",
        "model = RobertaForTokenClassification.from_pretrained(model_name_or_path)"
      ]
    },
    {
      "cell_type": "code",
      "source": [
        "nlp = pipeline(\"ner\", model=model, tokenizer=tokenizer)"
      ],
      "metadata": {
        "id": "UiuM-22U4hG0"
      },
      "id": "UiuM-22U4hG0",
      "execution_count": 264,
      "outputs": []
    },
    {
      "cell_type": "code",
      "source": [
        "example = fa_train[fa_train.Sent == 7]['Token'].sort_index().tolist()\n",
        "sent = \"\".join(example)\n",
        "results = nlp(sent)\n",
        "outputs = [(example[result['index']-1], result['entity']) for result in results]\n",
        "print(sent)\n",
        "print(results)\n",
        "print(outputs)"
      ],
      "metadata": {
        "colab": {
          "base_uri": "https://localhost:8080/"
        },
        "id": "t2U-mqWM5F5u",
        "outputId": "8c003eff-89db-48d6-95be-9a23490c056d"
      },
      "id": "t2U-mqWM5F5u",
      "execution_count": 303,
      "outputs": [
        {
          "output_type": "stream",
          "name": "stdout",
          "text": [
            "۱ آبان اهواز ) منتقد فیلم نویس و کارگردان اهل کشور ایران است . \n",
            "[{'entity': 'B-DAT', 'score': 0.46856514, 'index': 1, 'word': 'ĠÛ±', 'start': None, 'end': None}, {'entity': 'I-DAT', 'score': 0.9064486, 'index': 2, 'word': 'ĠØ¢Ø¨Ø§ÙĨ', 'start': None, 'end': None}, {'entity': 'B-LOC', 'score': 0.6031945, 'index': 3, 'word': 'ĠØ§ÙĩÙĪØ§Ø²', 'start': None, 'end': None}, {'entity': 'B-LOC', 'score': 0.6845396, 'index': 12, 'word': 'ĠØ§ÛĮØ±Ø§ÙĨ', 'start': None, 'end': None}]\n",
            "[('۱ ', 'B-DAT'), ('آبان ', 'I-DAT'), ('اهواز ', 'B-LOC'), ('ایران ', 'B-LOC')]\n"
          ]
        }
      ]
    },
    {
      "cell_type": "code",
      "source": [
        ""
      ],
      "metadata": {
        "id": "nqgkcQx37U2_"
      },
      "id": "nqgkcQx37U2_",
      "execution_count": null,
      "outputs": []
    }
  ],
  "metadata": {
    "kernelspec": {
      "display_name": "Python 3 (ipykernel)",
      "language": "python",
      "name": "python3"
    },
    "language_info": {
      "codemirror_mode": {
        "name": "ipython",
        "version": 3
      },
      "file_extension": ".py",
      "mimetype": "text/x-python",
      "name": "python",
      "nbconvert_exporter": "python",
      "pygments_lexer": "ipython3",
      "version": "3.8.11"
    },
    "colab": {
      "name": "Roberta_NER.ipynb",
      "provenance": [],
      "collapsed_sections": []
    }
  },
  "nbformat": 4,
  "nbformat_minor": 5
}
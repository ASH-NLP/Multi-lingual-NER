{
  "cells": [
    {
      "cell_type": "markdown",
      "metadata": {
        "id": "8wYfViVSz2s-"
      },
      "source": [
        "# XLM-Roberta Named Entity Recognition"
      ]
    },
    {
      "cell_type": "markdown",
      "metadata": {
        "id": "zQfLZ9cJz_7i"
      },
      "source": [
        "## How to start "
      ]
    },
    {
      "cell_type": "code",
      "execution_count": null,
      "metadata": {
        "id": "gF9_1lkWzu3j"
      },
      "outputs": [],
      "source": [
        "# Optional: You can mount google drive to save your checkpoints in it: \n",
        "\n",
        "# from google.colab import drive\n",
        "# drive.mount('/content/drive')"
      ]
    },
    {
      "cell_type": "code",
      "execution_count": null,
      "metadata": {
        "id": "f3ZMtEh6g3le"
      },
      "outputs": [],
      "source": [
        "# Optional: remove previous files if you want to run it again without any problem \n",
        "\n",
        "# ! rm -rf drive\n",
        "# ! rm -rf model\n",
        "# ! rm -rf sample_data\n",
        "\n",
        "\n",
        "# Remove data folder if already exists\n",
        "! rm -rf data"
      ]
    },
    {
      "cell_type": "markdown",
      "metadata": {
        "id": "tmK6V-wGzx7R"
      },
      "source": [
        "### Paths and Parameters"
      ]
    },
    {
      "cell_type": "code",
      "execution_count": null,
      "metadata": {
        "id": "FqaswDc55pGu"
      },
      "outputs": [],
      "source": [
        "DEBUG = False # Debug mode: If True then training set will be limited to MAX_EXAMPLES\n",
        "MAX_EXAMPLES = 1000 # Size of Debug Set\n",
        "MAX_EPOCHS = 15 # Max Number of epoochs \n",
        "CHECKPOINT_PATH = \"./drive/MyDrive\" # Root directory of checkpoints \n",
        "MODEL_PATH = \"./model\" # Root directory of pytorch model\n",
        "MODEL_NAME = \"model.pt\" # name of final pytorch model"
      ]
    },
    {
      "cell_type": "markdown",
      "metadata": {
        "id": "_OqhHJAQNYiq"
      },
      "source": [
        "### Install Libraries"
      ]
    },
    {
      "cell_type": "code",
      "execution_count": null,
      "metadata": {
        "id": "hKV8xJFzHtyI"
      },
      "outputs": [],
      "source": [
        "! pip install pytorch-lightning \n",
        "! pip install pytorch-crf # Crf layer\n",
        "! pip install transformers\n",
        "! pip install seqeval # Evaluation\n",
        "! pip install gdown # Downlowd from google drive"
      ]
    },
    {
      "cell_type": "code",
      "execution_count": null,
      "metadata": {
        "id": "dm774ZtCsYZd"
      },
      "outputs": [],
      "source": [
        "# ! gdown --id ID"
      ]
    },
    {
      "cell_type": "markdown",
      "metadata": {
        "id": "Y1ZrHrYJNeja"
      },
      "source": [
        "### Download Datasets"
      ]
    },
    {
      "cell_type": "code",
      "execution_count": null,
      "metadata": {
        "id": "1siw22dvPiVg"
      },
      "outputs": [],
      "source": [
        "# Create data folder and donwload required datasets\n",
        "! mkdir data\n",
        "! wget https://github.com/language-ml/4-token-classification/raw/main/Multilingual-NER/en_test.csv -P ./data\n",
        "! wget https://github.com/language-ml/4-token-classification/raw/main/Multilingual-NER/en_train.csv -P ./data\n",
        "! wget https://github.com/language-ml/4-token-classification/raw/main/Multilingual-NER/fa_test.csv -P ./data\n",
        "! wget https://github.com/language-ml/4-token-classification/raw/main/Multilingual-NER/fa_train.csv -P ./data"
      ]
    },
    {
      "cell_type": "markdown",
      "metadata": {
        "id": "FiFCEopXNmRp"
      },
      "source": [
        "### Import Libraries"
      ]
    },
    {
      "cell_type": "code",
      "execution_count": null,
      "metadata": {
        "id": "l35D2afgGuxg"
      },
      "outputs": [],
      "source": [
        "# import primitive libraries\n",
        "import os\n",
        "import pandas as pd\n",
        "from tqdm import tqdm\n",
        "import numpy as np\n",
        "import json\n",
        "\n",
        "# import seqval to report classifier performance metrics\n",
        "from seqeval.metrics import accuracy_score, precision_score, recall_score, f1_score\n",
        "from seqeval.scheme import IOB2\n",
        "\n",
        "# import torch related modules\n",
        "import torch\n",
        "from torch.utils.data import DataLoader\n",
        "from torch.utils.data import Dataset\n",
        "from torch.nn.utils.rnn import pad_sequence\n",
        "import torch.nn as nn\n",
        "\n",
        "# import pytorch lightning library\n",
        "import pytorch_lightning as pl\n",
        "from torchcrf import CRF as SUPERCRF\n",
        "\n",
        "# import NLTK to create better tokenizer\n",
        "import nltk\n",
        "from nltk.tokenize import RegexpTokenizer\n",
        "\n",
        "# Transformers : Roberta Model\n",
        "from transformers import XLMRobertaTokenizerFast\n",
        "from transformers import XLMRobertaModel, XLMRobertaConfig\n",
        "\n",
        "# import sklearn inorder to split data into train-evaluation-test\n",
        "from sklearn.model_selection import GroupShuffleSplit\n",
        "\n",
        "# import Typings\n",
        "from typing import Union,Dict,List,Tuple,Any,Optional"
      ]
    },
    {
      "cell_type": "code",
      "execution_count": null,
      "metadata": {
        "colab": {
          "base_uri": "https://localhost:8080/"
        },
        "id": "SJujx4BAUcdY",
        "outputId": "d0635555-fc11-4d4a-8d9b-c7da8917de2f"
      },
      "outputs": [
        {
          "name": "stdout",
          "output_type": "stream",
          "text": [
            "[nltk_data] Downloading package punkt to /root/nltk_data...\n",
            "[nltk_data]   Unzipping tokenizers/punkt.zip.\n"
          ]
        },
        {
          "data": {
            "text/plain": [
              "True"
            ]
          },
          "execution_count": 8,
          "metadata": {},
          "output_type": "execute_result"
        }
      ],
      "source": [
        "# for sent tokenizer (nltk)\n",
        "nltk.download('punkt')"
      ]
    },
    {
      "cell_type": "markdown",
      "metadata": {
        "id": "gCIfTAhwPx8z"
      },
      "source": [
        "## Load Data"
      ]
    },
    {
      "cell_type": "code",
      "execution_count": null,
      "metadata": {
        "id": "jUxaxRZxvulg"
      },
      "outputs": [],
      "source": [
        "# A function to load dataset into dataframe\n",
        "def load_data(name, path='./data', test=False):\n",
        "    print(f'Processing {name}')\n",
        "    # Read CSV\n",
        "    df = pd.read_csv(path + '/' + name)\n",
        "    # Define columns\n",
        "    df.columns = ['index', 'Token', 'Tag']\n",
        "    df.set_index('index', drop=True, inplace=True)\n",
        "    # Remove rows which starts with # id\n",
        "    mask = df.Token.str.startswith('# id')\n",
        "    indices = list(map(lambda x:x+1, df.index[mask].tolist())) + [df.index[-1]]\n",
        "    # Assign Sent number to each row\n",
        "    sentence = 0\n",
        "    df['Sent'] = None\n",
        "    for index in tqdm(range(len(indices)-1)):\n",
        "        df.loc[indices[index]:indices[index+1], 'Sent'] = sentence\n",
        "        sentence += 1\n",
        "    df.drop(df.index[mask], inplace=True)\n",
        "    # Drop Tag column if Dataframe is for test\n",
        "    if test:\n",
        "      df.drop(columns='Tag', inplace=True)\n",
        "    return df\n"
      ]
    },
    {
      "cell_type": "code",
      "execution_count": null,
      "metadata": {
        "colab": {
          "base_uri": "https://localhost:8080/"
        },
        "id": "IjIfiWc9whCR",
        "outputId": "a4fd3d68-beef-4669-c3a2-fc9e9ceee3fc"
      },
      "outputs": [
        {
          "name": "stdout",
          "output_type": "stream",
          "text": [
            "Processing en_train.csv\n"
          ]
        },
        {
          "name": "stderr",
          "output_type": "stream",
          "text": [
            "100%|██████████| 15300/15300 [01:03<00:00, 239.27it/s]\n"
          ]
        },
        {
          "name": "stdout",
          "output_type": "stream",
          "text": [
            "Processing en_test.csv\n"
          ]
        },
        {
          "name": "stderr",
          "output_type": "stream",
          "text": [
            "100%|██████████| 800/800 [00:00<00:00, 901.95it/s]\n"
          ]
        },
        {
          "name": "stdout",
          "output_type": "stream",
          "text": [
            "Processing fa_train.csv\n"
          ]
        },
        {
          "name": "stderr",
          "output_type": "stream",
          "text": [
            "100%|██████████| 15300/15300 [01:01<00:00, 248.25it/s]\n"
          ]
        },
        {
          "name": "stdout",
          "output_type": "stream",
          "text": [
            "Processing fa_test.csv\n"
          ]
        },
        {
          "name": "stderr",
          "output_type": "stream",
          "text": [
            "100%|██████████| 800/800 [00:00<00:00, 1764.15it/s]\n"
          ]
        }
      ],
      "source": [
        "# EN Data\n",
        "en_data = load_data('en_train.csv')\n",
        "# clean tag column\n",
        "en_data['Tag'] = en_data['Tag'].apply(lambda tag: tag.strip() if tag!=' _ O' else 'O')\n",
        "# clean Token column\n",
        "en_data['Token'] = en_data['Token'].apply(lambda token: token.strip())\n",
        "\n",
        "# EN Test (Deploy)\n",
        "en_deploy_test = load_data('en_test.csv', test=True)\n",
        "\n",
        "# FA Data \n",
        "fa_data = load_data('fa_train.csv')\n",
        "# clean tag column\n",
        "fa_data['Tag'] = fa_data['Tag'].apply(lambda tag: tag.strip() if tag!=' _ O' else 'O')\n",
        "# clean Token column\n",
        "fa_data['Token'] = fa_data['Token'].apply(lambda token: token.strip())\n",
        "\n",
        "# FA TEST (Desploy)\n",
        "fa_deploy_test = load_data('fa_test.csv', test=True)"
      ]
    },
    {
      "cell_type": "code",
      "execution_count": null,
      "metadata": {
        "id": "YOmxwy3mSqAk"
      },
      "outputs": [],
      "source": [
        "# Debug mode in order to reduce time consumption.\n",
        "if DEBUG ==  True:\n",
        "    en_data = en_data[:MAX_EXAMPLES]\n",
        "    fa_data = fa_data[:MAX_EXAMPLES]"
      ]
    },
    {
      "cell_type": "code",
      "execution_count": null,
      "metadata": {
        "id": "D9qkMmy3SZvS"
      },
      "outputs": [],
      "source": [
        "# Ratio of Val+Test to Training set\n",
        "VAL_TEST_SIZE = 0.3\n",
        "# Ratio of Test to Val set\n",
        "TEST_SIZE = 0.3"
      ]
    },
    {
      "cell_type": "markdown",
      "metadata": {
        "id": "oDP18J8ZSXWE"
      },
      "source": [
        "### EN Dataframes"
      ]
    },
    {
      "cell_type": "code",
      "execution_count": null,
      "metadata": {
        "id": "S-SZ2iUzwhqX"
      },
      "outputs": [],
      "source": [
        "# Split Dataframe into Train and Val+Test\n",
        "splitter = GroupShuffleSplit(test_size=VAL_TEST_SIZE, n_splits=1,  random_state = 42)\n",
        "split = splitter.split(en_data, groups=en_data['Sent'])\n",
        "en_train_inds, en_val_test_inds = next(split)\n",
        "\n",
        "# En Train and Val+Test\n",
        "en_train = en_data.iloc[en_train_inds]\n",
        "en_val_test = en_data.iloc[en_val_test_inds]\n",
        "\n",
        "# Split Dataframe into Val and Test\n",
        "splitter = GroupShuffleSplit(test_size=TEST_SIZE, n_splits=1,  random_state = 42)\n",
        "split = splitter.split(en_val_test, groups=en_val_test['Sent'])\n",
        "en_val_inds, en_test_inds = next(split)\n",
        "\n",
        "# En Val and Test\n",
        "en_val = en_val_test.iloc[en_val_inds]\n",
        "en_test = en_val_test.iloc[en_test_inds]"
      ]
    },
    {
      "cell_type": "code",
      "execution_count": null,
      "metadata": {
        "colab": {
          "base_uri": "https://localhost:8080/",
          "height": 237
        },
        "id": "e_xVTTkmSwRn",
        "outputId": "f02f9c36-55eb-4db2-97d2-38c3222517c3"
      },
      "outputs": [
        {
          "data": {
            "text/html": [
              "\n",
              "  <div id=\"df-a980e0bd-c5e2-45c2-90ca-17bd722b79fe\">\n",
              "    <div class=\"colab-df-container\">\n",
              "      <div>\n",
              "<style scoped>\n",
              "    .dataframe tbody tr th:only-of-type {\n",
              "        vertical-align: middle;\n",
              "    }\n",
              "\n",
              "    .dataframe tbody tr th {\n",
              "        vertical-align: top;\n",
              "    }\n",
              "\n",
              "    .dataframe thead th {\n",
              "        text-align: right;\n",
              "    }\n",
              "</style>\n",
              "<table border=\"1\" class=\"dataframe\">\n",
              "  <thead>\n",
              "    <tr style=\"text-align: right;\">\n",
              "      <th></th>\n",
              "      <th>Token</th>\n",
              "      <th>Tag</th>\n",
              "      <th>Sent</th>\n",
              "    </tr>\n",
              "    <tr>\n",
              "      <th>index</th>\n",
              "      <th></th>\n",
              "      <th></th>\n",
              "      <th></th>\n",
              "    </tr>\n",
              "  </thead>\n",
              "  <tbody>\n",
              "    <tr>\n",
              "      <th>1</th>\n",
              "      <td>his</td>\n",
              "      <td>O</td>\n",
              "      <td>0</td>\n",
              "    </tr>\n",
              "    <tr>\n",
              "      <th>2</th>\n",
              "      <td>playlist</td>\n",
              "      <td>O</td>\n",
              "      <td>0</td>\n",
              "    </tr>\n",
              "    <tr>\n",
              "      <th>3</th>\n",
              "      <td>includes</td>\n",
              "      <td>O</td>\n",
              "      <td>0</td>\n",
              "    </tr>\n",
              "    <tr>\n",
              "      <th>4</th>\n",
              "      <td>sonny</td>\n",
              "      <td>B-PER</td>\n",
              "      <td>0</td>\n",
              "    </tr>\n",
              "    <tr>\n",
              "      <th>5</th>\n",
              "      <td>sharrock</td>\n",
              "      <td>I-PER</td>\n",
              "      <td>0</td>\n",
              "    </tr>\n",
              "  </tbody>\n",
              "</table>\n",
              "</div>\n",
              "      <button class=\"colab-df-convert\" onclick=\"convertToInteractive('df-a980e0bd-c5e2-45c2-90ca-17bd722b79fe')\"\n",
              "              title=\"Convert this dataframe to an interactive table.\"\n",
              "              style=\"display:none;\">\n",
              "        \n",
              "  <svg xmlns=\"http://www.w3.org/2000/svg\" height=\"24px\"viewBox=\"0 0 24 24\"\n",
              "       width=\"24px\">\n",
              "    <path d=\"M0 0h24v24H0V0z\" fill=\"none\"/>\n",
              "    <path d=\"M18.56 5.44l.94 2.06.94-2.06 2.06-.94-2.06-.94-.94-2.06-.94 2.06-2.06.94zm-11 1L8.5 8.5l.94-2.06 2.06-.94-2.06-.94L8.5 2.5l-.94 2.06-2.06.94zm10 10l.94 2.06.94-2.06 2.06-.94-2.06-.94-.94-2.06-.94 2.06-2.06.94z\"/><path d=\"M17.41 7.96l-1.37-1.37c-.4-.4-.92-.59-1.43-.59-.52 0-1.04.2-1.43.59L10.3 9.45l-7.72 7.72c-.78.78-.78 2.05 0 2.83L4 21.41c.39.39.9.59 1.41.59.51 0 1.02-.2 1.41-.59l7.78-7.78 2.81-2.81c.8-.78.8-2.07 0-2.86zM5.41 20L4 18.59l7.72-7.72 1.47 1.35L5.41 20z\"/>\n",
              "  </svg>\n",
              "      </button>\n",
              "      \n",
              "  <style>\n",
              "    .colab-df-container {\n",
              "      display:flex;\n",
              "      flex-wrap:wrap;\n",
              "      gap: 12px;\n",
              "    }\n",
              "\n",
              "    .colab-df-convert {\n",
              "      background-color: #E8F0FE;\n",
              "      border: none;\n",
              "      border-radius: 50%;\n",
              "      cursor: pointer;\n",
              "      display: none;\n",
              "      fill: #1967D2;\n",
              "      height: 32px;\n",
              "      padding: 0 0 0 0;\n",
              "      width: 32px;\n",
              "    }\n",
              "\n",
              "    .colab-df-convert:hover {\n",
              "      background-color: #E2EBFA;\n",
              "      box-shadow: 0px 1px 2px rgba(60, 64, 67, 0.3), 0px 1px 3px 1px rgba(60, 64, 67, 0.15);\n",
              "      fill: #174EA6;\n",
              "    }\n",
              "\n",
              "    [theme=dark] .colab-df-convert {\n",
              "      background-color: #3B4455;\n",
              "      fill: #D2E3FC;\n",
              "    }\n",
              "\n",
              "    [theme=dark] .colab-df-convert:hover {\n",
              "      background-color: #434B5C;\n",
              "      box-shadow: 0px 1px 3px 1px rgba(0, 0, 0, 0.15);\n",
              "      filter: drop-shadow(0px 1px 2px rgba(0, 0, 0, 0.3));\n",
              "      fill: #FFFFFF;\n",
              "    }\n",
              "  </style>\n",
              "\n",
              "      <script>\n",
              "        const buttonEl =\n",
              "          document.querySelector('#df-a980e0bd-c5e2-45c2-90ca-17bd722b79fe button.colab-df-convert');\n",
              "        buttonEl.style.display =\n",
              "          google.colab.kernel.accessAllowed ? 'block' : 'none';\n",
              "\n",
              "        async function convertToInteractive(key) {\n",
              "          const element = document.querySelector('#df-a980e0bd-c5e2-45c2-90ca-17bd722b79fe');\n",
              "          const dataTable =\n",
              "            await google.colab.kernel.invokeFunction('convertToInteractive',\n",
              "                                                     [key], {});\n",
              "          if (!dataTable) return;\n",
              "\n",
              "          const docLinkHtml = 'Like what you see? Visit the ' +\n",
              "            '<a target=\"_blank\" href=https://colab.research.google.com/notebooks/data_table.ipynb>data table notebook</a>'\n",
              "            + ' to learn more about interactive tables.';\n",
              "          element.innerHTML = '';\n",
              "          dataTable['output_type'] = 'display_data';\n",
              "          await google.colab.output.renderOutput(dataTable, element);\n",
              "          const docLink = document.createElement('div');\n",
              "          docLink.innerHTML = docLinkHtml;\n",
              "          element.appendChild(docLink);\n",
              "        }\n",
              "      </script>\n",
              "    </div>\n",
              "  </div>\n",
              "  "
            ],
            "text/plain": [
              "          Token    Tag Sent\n",
              "index                      \n",
              "1           his      O    0\n",
              "2      playlist      O    0\n",
              "3      includes      O    0\n",
              "4         sonny  B-PER    0\n",
              "5      sharrock  I-PER    0"
            ]
          },
          "execution_count": 14,
          "metadata": {},
          "output_type": "execute_result"
        }
      ],
      "source": [
        "en_train.head()"
      ]
    },
    {
      "cell_type": "markdown",
      "metadata": {
        "id": "iipkxa5LSqi7"
      },
      "source": [
        "### FA Dataframes"
      ]
    },
    {
      "cell_type": "code",
      "execution_count": null,
      "metadata": {
        "id": "2i9pgdesw_TP"
      },
      "outputs": [],
      "source": [
        "# Split Dataframe into Train and Val+Test\n",
        "splitter = GroupShuffleSplit(test_size=VAL_TEST_SIZE, n_splits=2,  random_state = 42)\n",
        "split = splitter.split(fa_data, groups=fa_data['Sent'])\n",
        "fa_train_inds, fa_val_test_inds = next(split)\n",
        "\n",
        "# FA Train and Val+Test\n",
        "fa_train = fa_data.iloc[fa_train_inds]\n",
        "fa_val_test = fa_data.iloc[fa_val_test_inds]\n",
        "\n",
        "# Split Dataframe into Val and Test\n",
        "splitter = GroupShuffleSplit(test_size=TEST_SIZE, n_splits=2,  random_state = 42)\n",
        "split = splitter.split(fa_val_test, groups=fa_val_test['Sent'])\n",
        "fa_val_inds, fa_test_inds = next(split)\n",
        "\n",
        "# FA Val and Test\n",
        "fa_val = fa_val_test.iloc[fa_val_inds]\n",
        "fa_test = fa_val_test.iloc[fa_test_inds]"
      ]
    },
    {
      "cell_type": "code",
      "execution_count": null,
      "metadata": {
        "colab": {
          "base_uri": "https://localhost:8080/",
          "height": 237
        },
        "id": "oqVIAT5saHSG",
        "outputId": "2ac0f7a6-0e5a-4579-8d35-d2dadc8aaab7"
      },
      "outputs": [
        {
          "data": {
            "text/html": [
              "\n",
              "  <div id=\"df-6ec72551-1c1d-4d88-bbe5-19c829595693\">\n",
              "    <div class=\"colab-df-container\">\n",
              "      <div>\n",
              "<style scoped>\n",
              "    .dataframe tbody tr th:only-of-type {\n",
              "        vertical-align: middle;\n",
              "    }\n",
              "\n",
              "    .dataframe tbody tr th {\n",
              "        vertical-align: top;\n",
              "    }\n",
              "\n",
              "    .dataframe thead th {\n",
              "        text-align: right;\n",
              "    }\n",
              "</style>\n",
              "<table border=\"1\" class=\"dataframe\">\n",
              "  <thead>\n",
              "    <tr style=\"text-align: right;\">\n",
              "      <th></th>\n",
              "      <th>Token</th>\n",
              "      <th>Tag</th>\n",
              "      <th>Sent</th>\n",
              "    </tr>\n",
              "    <tr>\n",
              "      <th>index</th>\n",
              "      <th></th>\n",
              "      <th></th>\n",
              "      <th></th>\n",
              "    </tr>\n",
              "  </thead>\n",
              "  <tbody>\n",
              "    <tr>\n",
              "      <th>1</th>\n",
              "      <td>مردی</td>\n",
              "      <td>B-CW</td>\n",
              "      <td>0</td>\n",
              "    </tr>\n",
              "    <tr>\n",
              "      <th>2</th>\n",
              "      <td>برای</td>\n",
              "      <td>I-CW</td>\n",
              "      <td>0</td>\n",
              "    </tr>\n",
              "    <tr>\n",
              "      <th>3</th>\n",
              "      <td>تمام</td>\n",
              "      <td>I-CW</td>\n",
              "      <td>0</td>\n",
              "    </tr>\n",
              "    <tr>\n",
              "      <th>4</th>\n",
              "      <td>فصول</td>\n",
              "      <td>I-CW</td>\n",
              "      <td>0</td>\n",
              "    </tr>\n",
              "    <tr>\n",
              "      <th>5</th>\n",
              "      <td>–</td>\n",
              "      <td>O</td>\n",
              "      <td>0</td>\n",
              "    </tr>\n",
              "  </tbody>\n",
              "</table>\n",
              "</div>\n",
              "      <button class=\"colab-df-convert\" onclick=\"convertToInteractive('df-6ec72551-1c1d-4d88-bbe5-19c829595693')\"\n",
              "              title=\"Convert this dataframe to an interactive table.\"\n",
              "              style=\"display:none;\">\n",
              "        \n",
              "  <svg xmlns=\"http://www.w3.org/2000/svg\" height=\"24px\"viewBox=\"0 0 24 24\"\n",
              "       width=\"24px\">\n",
              "    <path d=\"M0 0h24v24H0V0z\" fill=\"none\"/>\n",
              "    <path d=\"M18.56 5.44l.94 2.06.94-2.06 2.06-.94-2.06-.94-.94-2.06-.94 2.06-2.06.94zm-11 1L8.5 8.5l.94-2.06 2.06-.94-2.06-.94L8.5 2.5l-.94 2.06-2.06.94zm10 10l.94 2.06.94-2.06 2.06-.94-2.06-.94-.94-2.06-.94 2.06-2.06.94z\"/><path d=\"M17.41 7.96l-1.37-1.37c-.4-.4-.92-.59-1.43-.59-.52 0-1.04.2-1.43.59L10.3 9.45l-7.72 7.72c-.78.78-.78 2.05 0 2.83L4 21.41c.39.39.9.59 1.41.59.51 0 1.02-.2 1.41-.59l7.78-7.78 2.81-2.81c.8-.78.8-2.07 0-2.86zM5.41 20L4 18.59l7.72-7.72 1.47 1.35L5.41 20z\"/>\n",
              "  </svg>\n",
              "      </button>\n",
              "      \n",
              "  <style>\n",
              "    .colab-df-container {\n",
              "      display:flex;\n",
              "      flex-wrap:wrap;\n",
              "      gap: 12px;\n",
              "    }\n",
              "\n",
              "    .colab-df-convert {\n",
              "      background-color: #E8F0FE;\n",
              "      border: none;\n",
              "      border-radius: 50%;\n",
              "      cursor: pointer;\n",
              "      display: none;\n",
              "      fill: #1967D2;\n",
              "      height: 32px;\n",
              "      padding: 0 0 0 0;\n",
              "      width: 32px;\n",
              "    }\n",
              "\n",
              "    .colab-df-convert:hover {\n",
              "      background-color: #E2EBFA;\n",
              "      box-shadow: 0px 1px 2px rgba(60, 64, 67, 0.3), 0px 1px 3px 1px rgba(60, 64, 67, 0.15);\n",
              "      fill: #174EA6;\n",
              "    }\n",
              "\n",
              "    [theme=dark] .colab-df-convert {\n",
              "      background-color: #3B4455;\n",
              "      fill: #D2E3FC;\n",
              "    }\n",
              "\n",
              "    [theme=dark] .colab-df-convert:hover {\n",
              "      background-color: #434B5C;\n",
              "      box-shadow: 0px 1px 3px 1px rgba(0, 0, 0, 0.15);\n",
              "      filter: drop-shadow(0px 1px 2px rgba(0, 0, 0, 0.3));\n",
              "      fill: #FFFFFF;\n",
              "    }\n",
              "  </style>\n",
              "\n",
              "      <script>\n",
              "        const buttonEl =\n",
              "          document.querySelector('#df-6ec72551-1c1d-4d88-bbe5-19c829595693 button.colab-df-convert');\n",
              "        buttonEl.style.display =\n",
              "          google.colab.kernel.accessAllowed ? 'block' : 'none';\n",
              "\n",
              "        async function convertToInteractive(key) {\n",
              "          const element = document.querySelector('#df-6ec72551-1c1d-4d88-bbe5-19c829595693');\n",
              "          const dataTable =\n",
              "            await google.colab.kernel.invokeFunction('convertToInteractive',\n",
              "                                                     [key], {});\n",
              "          if (!dataTable) return;\n",
              "\n",
              "          const docLinkHtml = 'Like what you see? Visit the ' +\n",
              "            '<a target=\"_blank\" href=https://colab.research.google.com/notebooks/data_table.ipynb>data table notebook</a>'\n",
              "            + ' to learn more about interactive tables.';\n",
              "          element.innerHTML = '';\n",
              "          dataTable['output_type'] = 'display_data';\n",
              "          await google.colab.output.renderOutput(dataTable, element);\n",
              "          const docLink = document.createElement('div');\n",
              "          docLink.innerHTML = docLinkHtml;\n",
              "          element.appendChild(docLink);\n",
              "        }\n",
              "      </script>\n",
              "    </div>\n",
              "  </div>\n",
              "  "
            ],
            "text/plain": [
              "      Token   Tag Sent\n",
              "index                 \n",
              "1      مردی  B-CW    0\n",
              "2      برای  I-CW    0\n",
              "3      تمام  I-CW    0\n",
              "4      فصول  I-CW    0\n",
              "5         –     O    0"
            ]
          },
          "execution_count": 16,
          "metadata": {},
          "output_type": "execute_result"
        }
      ],
      "source": [
        "fa_train.head()"
      ]
    },
    {
      "cell_type": "markdown",
      "metadata": {
        "id": "CgNsqEv0aLbr"
      },
      "source": [
        "### Create tags table"
      ]
    },
    {
      "cell_type": "code",
      "execution_count": null,
      "metadata": {
        "id": "nLdN_M1p_Wrx"
      },
      "outputs": [],
      "source": [
        "# Create list of name entity tags in train files\n",
        "tags_table = list(set(list (en_train.Tag) + list(fa_train.Tag)))"
      ]
    },
    {
      "cell_type": "markdown",
      "metadata": {
        "id": "Ph3srnLycIle"
      },
      "source": [
        "### Create Proper Input Data"
      ]
    },
    {
      "cell_type": "code",
      "execution_count": null,
      "metadata": {
        "id": "1U3Gkubw45l4"
      },
      "outputs": [],
      "source": [
        "# Create proper input files\n",
        "def write_file(en_df, fa_df, name, path='./data'):\n",
        "    # Get the first sentence. The parameter will be updated during execution of function and show the last processed sentence number.\n",
        "    last_sent = en_df.iloc[0].Sent\n",
        "\n",
        "    with open(f'{path}/{name}.txt', 'a') as writer:\n",
        "      # Write English (Token, Tag) pairs\n",
        "        for index, row in tqdm(en_df.iterrows(), desc = f'Writing English {name} file'):  \n",
        "            token, tag, current_sent = row\n",
        "\n",
        "            if (current_sent == last_sent):\n",
        "                writer.write(f\"{token}\\t{tag}\\n\")\n",
        "            else:\n",
        "                last_sent = current_sent\n",
        "                writer.write(f\"\\n\")\n",
        "                writer.write(f\"{token}\\t{tag}\\n\")\n",
        "\n",
        "        # Write Farsi (Token, Tag) pairs\n",
        "        last_row_df = fa_df.iloc[-1].Sent\n",
        "\n",
        "        for index, row in tqdm(fa_df.iterrows(), desc = f'Writing Farsi {name} file'):  \n",
        "            token, tag, current_sent = row\n",
        "\n",
        "            if current_sent!=last_row_df:\n",
        "                if (current_sent == last_sent):\n",
        "                    writer.write(f\"{token}\\t{tag}\\n\")\n",
        "\n",
        "                else:\n",
        "                    last_sent = current_sent\n",
        "                    writer.write(f\"\\n\")\n",
        "                    writer.write(f\"{token}\\t{tag}\\n\")\n",
        "            else:\n",
        "                # Last Sentence of file without newline char\n",
        "                writer.write(f\"\\n\")\n",
        "                writer.write(f\"{token}\\t{tag}\")"
      ]
    },
    {
      "cell_type": "code",
      "execution_count": null,
      "metadata": {
        "colab": {
          "base_uri": "https://localhost:8080/"
        },
        "id": "tFt1JabRxHix",
        "outputId": "e7773dc8-b675-43d5-b4fb-94e2d3b0e9b3"
      },
      "outputs": [
        {
          "name": "stderr",
          "output_type": "stream",
          "text": [
            "Writing English train file: 178156it [00:00, 22317.00it/s]\n",
            "Writing Farsi train file: 195426it [00:00, 19096.39it/s]\n",
            "Writing English test file: 22681it [00:00, 14925.52it/s]\n",
            "Writing Farsi test file: 24682it [00:00, 18334.04it/s]\n",
            "Writing English val file: 52702it [00:00, 18475.23it/s]\n",
            "Writing Farsi val file: 58139it [00:00, 16509.91it/s]\n"
          ]
        }
      ],
      "source": [
        "# (Re)produce train test val files\n",
        "! rm -rf ./data/train.txt\n",
        "write_file(en_train, fa_train, 'train')\n",
        "! rm -rf ./data/test.txt\n",
        "write_file(en_test, fa_test, 'test')\n",
        "! rm -rf ./data/val.txt\n",
        "write_file(en_val, fa_val, 'val')"
      ]
    },
    {
      "cell_type": "markdown",
      "metadata": {
        "id": "FUJUUFa4UyF4"
      },
      "source": [
        "### Create Individual Test File"
      ]
    },
    {
      "cell_type": "code",
      "execution_count": null,
      "metadata": {
        "id": "OpbazCR7T6Le"
      },
      "outputs": [],
      "source": [
        "def write_individual_test(df, name, path='./data'):\n",
        "    # Get the first sentence. The parameter will be updated during execution of function and show the last processed sentence number.\n",
        "    last_sent = df.iloc[0].Sent\n",
        "\n",
        "    with open(f'{path}/{name}.txt', 'a') as writer:\n",
        "        last_row_df = df.iloc[-1].Sent\n",
        "\n",
        "        for index, row in tqdm(df.iterrows(), desc = f'Writing {name} file'):  \n",
        "            token, tag, current_sent = row\n",
        "\n",
        "            if current_sent!=last_row_df:\n",
        "                if (current_sent == last_sent):\n",
        "                    writer.write(f\"{token}\\t{tag}\\n\")\n",
        "\n",
        "                else:\n",
        "                    last_sent = current_sent\n",
        "                    writer.write(f\"\\n\")\n",
        "                    writer.write(f\"{token}\\t{tag}\\n\")\n",
        "            else:\n",
        "                # Last Sentence of file without newline char\n",
        "                writer.write(f\"\\n\")\n",
        "                writer.write(f\"{token}\\t{tag}\")"
      ]
    },
    {
      "cell_type": "code",
      "execution_count": null,
      "metadata": {
        "colab": {
          "base_uri": "https://localhost:8080/"
        },
        "id": "T0d5kZFlU7ql",
        "outputId": "364083c1-3fa9-4f76-dd30-8ba65651a34f"
      },
      "outputs": [
        {
          "name": "stderr",
          "output_type": "stream",
          "text": [
            "Writing fa_test file: 24682it [00:00, 13751.82it/s]\n",
            "Writing en_test file: 22681it [00:00, 18444.74it/s]\n"
          ]
        }
      ],
      "source": [
        "! rm -rf ./data/fa_test.txt\n",
        "write_individual_test(fa_test,'fa_test')\n",
        "\n",
        "! rm -rf ./data/en_test.txt\n",
        "write_individual_test(en_test,'en_test')"
      ]
    },
    {
      "cell_type": "markdown",
      "metadata": {
        "id": "V9ASUZ2n2aR2"
      },
      "source": [
        "## XLM-Roberta "
      ]
    },
    {
      "cell_type": "markdown",
      "metadata": {
        "id": "bs5yGEFN2gHP"
      },
      "source": [
        "### TokenFromSubtoken\n",
        "- Code adapted from https://github.com/deepmipt/DeepPavlov/blob/master/deeppavlov/models/torch_bert/torch_transformers_sequence_tagger.py\n",
        "- DeepPavlov is an popular open source library for deep learning end-to-end dialog systems and chatbots.\n",
        "- Licensed under the Apache License, Version 2.0 (the \"License\");\n"
      ]
    },
    {
      "cell_type": "code",
      "execution_count": null,
      "metadata": {
        "id": "MlP1uKJ9T8e4"
      },
      "outputs": [],
      "source": [
        "class TokenFromSubtoken(torch.nn.Module):\n",
        "\n",
        "    def forward(self, units: torch.Tensor, mask: torch.Tensor) -> torch.Tensor:\n",
        "        \"\"\" Assemble token level units from subtoken level units\n",
        "        Args:\n",
        "            units: torch.Tensor of shape [batch_size, SUBTOKEN_seq_length, n_features]\n",
        "            mask: mask of token beginnings. For example: for tokens\n",
        "                    [[``[CLS]`` ``My``, ``capybara``, ``[SEP]``],\n",
        "                    [``[CLS]`` ``Your``, ``aar``, ``##dvark``, ``is``, ``awesome``, ``[SEP]``]]\n",
        "                the mask will be\n",
        "                    [[0, 1, 1, 0, 0, 0, 0],\n",
        "                    [0, 1, 1, 0, 1, 1, 0]]\n",
        "        Returns:\n",
        "            word_level_units: Units assembled from ones in the mask. For the\n",
        "                example above this units will correspond to the following\n",
        "                    [[``My``, ``capybara``],\n",
        "                    [``Your`, ``aar``, ``is``, ``awesome``,]]\n",
        "                the shape of this tensor will be [batch_size, TOKEN_seq_length, n_features]\n",
        "        \"\"\"\n",
        "        \n",
        "        device = units.device\n",
        "        nf_int = units.size()[-1]\n",
        "        batch_size = units.size()[0]\n",
        "\n",
        "        # number of TOKENS in each sentence\n",
        "        token_seq_lengths = torch.sum(mask, 1).to(torch.int64)\n",
        "        # number of words\n",
        "        n_words = torch.sum(token_seq_lengths)\n",
        "        # max token seq len\n",
        "        max_token_seq_len = torch.max(token_seq_lengths)\n",
        "\n",
        "        idxs = torch.stack(torch.nonzero(mask, as_tuple=True), dim=1)\n",
        "        # padding is for computing change from one sample to another in the batch\n",
        "        sample_ids_in_batch = torch.nn.functional.pad(input=idxs[:, 0], pad=[1, 0])\n",
        "        \n",
        "        a = (~torch.eq(sample_ids_in_batch[1:], sample_ids_in_batch[:-1])).to(torch.int64)\n",
        "        \n",
        "        # transforming sample start masks to the sample starts themselves\n",
        "        q = a * torch.arange(n_words, device=device).to(torch.int64)\n",
        "        count_to_substract = torch.nn.functional.pad(torch.masked_select(q, q.to(torch.bool)), [1, 0])\n",
        "\n",
        "        new_word_indices = torch.arange(n_words, device=device).to(torch.int64) - count_to_substract[torch.cumsum(a, 0)]\n",
        "        \n",
        "        n_total_word_elements = max_token_seq_len*torch.ones_like(token_seq_lengths, device=device).sum()\n",
        "        word_indices_flat = (idxs[:, 0] * max_token_seq_len + new_word_indices).to(torch.int64)\n",
        "        #x_mask = torch.sum(torch.nn.functional.one_hot(word_indices_flat, n_total_word_elements), 0)\n",
        "        #x_mask = x_mask.to(torch.bool)\n",
        "        x_mask = torch.zeros(n_total_word_elements, dtype=torch.bool, device=device)\n",
        "        x_mask[word_indices_flat] = torch.ones_like(word_indices_flat, device=device, dtype=torch.bool)\n",
        "        # to get absolute indices we add max_token_seq_len:\n",
        "        # idxs[:, 0] * max_token_seq_len -> [0, 0, 0, 1, 1, 2] * 2 = [0, 0, 0, 3, 3, 6]\n",
        "        # word_indices_flat -> [0, 0, 0, 3, 3, 6] + [0, 1, 2, 0, 1, 0] = [0, 1, 2, 3, 4, 6]\n",
        "        # total number of words in the batch (including paddings)\n",
        "        # batch_size * max_token_seq_len -> 3 * 3 = 9\n",
        "        # tf.one_hot(...) ->\n",
        "        # [[1. 0. 0. 0. 0. 0. 0. 0. 0.]\n",
        "        #  [0. 1. 0. 0. 0. 0. 0. 0. 0.]\n",
        "        #  [0. 0. 1. 0. 0. 0. 0. 0. 0.]\n",
        "        #  [0. 0. 0. 1. 0. 0. 0. 0. 0.]\n",
        "        #  [0. 0. 0. 0. 1. 0. 0. 0. 0.]\n",
        "        #  [0. 0. 0. 0. 0. 0. 1. 0. 0.]]\n",
        "        #  x_mask -> [1, 1, 1, 1, 1, 0, 1, 0, 0]\n",
        "        nonword_indices_flat = (~x_mask).nonzero().squeeze(-1)\n",
        "\n",
        "        # get a sequence of units corresponding to the start subtokens of the words\n",
        "        # size: [n_words, n_features]\n",
        "        \n",
        "        elements = units[mask.bool()]\n",
        "\n",
        "        # prepare zeros for paddings\n",
        "        # size: [batch_size * TOKEN_seq_length - n_words, n_features]\n",
        "        paddings = torch.zeros_like(nonword_indices_flat, dtype=elements.dtype).unsqueeze(-1).repeat(1,nf_int).to(device)\n",
        "\n",
        "        # tensor_flat -> [x, x, x, x, x, 0, x, 0, 0]\n",
        "        tensor_flat_unordered = torch.cat([elements, paddings])\n",
        "        _, order_idx = torch.sort(torch.cat([word_indices_flat, nonword_indices_flat]))\n",
        "        tensor_flat = tensor_flat_unordered[order_idx]\n",
        "\n",
        "        tensor = torch.reshape(tensor_flat, (-1, max_token_seq_len, nf_int))\n",
        "        # tensor -> [[x, x, x],\n",
        "        #            [x, x, 0],\n",
        "        #            [x, 0, 0]]\n",
        "\n",
        "        return tensor\n"
      ]
    },
    {
      "cell_type": "markdown",
      "metadata": {
        "id": "m2We9RK24f29"
      },
      "source": [
        "### Conditional Random Field \n",
        "- Code adopted form torchcrf library (https://pytorch-crf.readthedocs.io/en/stable/)\n",
        "- we override veiterbi decoder in order to make it compatible with our code "
      ]
    },
    {
      "cell_type": "code",
      "execution_count": null,
      "metadata": {
        "id": "DjXultXaUj-t"
      },
      "outputs": [],
      "source": [
        "class CRF(SUPERCRF):\n",
        "\n",
        "    # override veiterbi decoder in order to make it compatible with our code \n",
        "    def _viterbi_decode(self, emissions: torch.FloatTensor,\n",
        "                        mask: torch.ByteTensor) -> List[List[int]]:\n",
        "        # emissions: (seq_length, batch_size, num_tags)\n",
        "        # mask: (seq_length, batch_size)\n",
        "        assert emissions.dim() == 3 and mask.dim() == 2\n",
        "        assert emissions.shape[:2] == mask.shape\n",
        "        assert emissions.size(2) == self.num_tags\n",
        "        assert mask[0].all()\n",
        "\n",
        "        seq_length, batch_size = mask.shape\n",
        "\n",
        "        # Start transition and first emission\n",
        "        # shape: (batch_size, num_tags)\n",
        "        score = self.start_transitions + emissions[0]\n",
        "        history = []\n",
        "\n",
        "        # score is a tensor of size (batch_size, num_tags) where for every batch,\n",
        "        # value at column j stores the score of the best tag sequence so far that ends\n",
        "        # with tag j\n",
        "        # history saves where the best tags candidate transitioned from; this is used\n",
        "        # when we trace back the best tag sequence\n",
        "\n",
        "        # Viterbi algorithm recursive case: we compute the score of the best tag sequence\n",
        "        # for every possible next tag\n",
        "        for i in range(1, seq_length):\n",
        "            # Broadcast viterbi score for every possible next tag\n",
        "            # shape: (batch_size, num_tags, 1)\n",
        "            broadcast_score = score.unsqueeze(2)\n",
        "\n",
        "            # Broadcast emission score for every possible current tag\n",
        "            # shape: (batch_size, 1, num_tags)\n",
        "            broadcast_emission = emissions[i].unsqueeze(1)\n",
        "\n",
        "            # Compute the score tensor of size (batch_size, num_tags, num_tags) where\n",
        "            # for each sample, entry at row i and column j stores the score of the best\n",
        "            # tag sequence so far that ends with transitioning from tag i to tag j and emitting\n",
        "            # shape: (batch_size, num_tags, num_tags)\n",
        "            next_score = broadcast_score + self.transitions + broadcast_emission\n",
        "\n",
        "            # Find the maximum score over all possible current tag\n",
        "            # shape: (batch_size, num_tags)\n",
        "            next_score, indices = next_score.max(dim=1)\n",
        "\n",
        "            # Set score to the next score if this timestep is valid (mask == 1)\n",
        "            # and save the index that produces the next score\n",
        "            # shape: (batch_size, num_tags)\n",
        "            score = torch.where(mask[i].unsqueeze(1), next_score, score)\n",
        "            history.append(indices)\n",
        "\n",
        "        history = torch.stack(history, dim=0)\n",
        "\n",
        "        # End transition score\n",
        "        # shape: (batch_size, num_tags)\n",
        "        score += self.end_transitions\n",
        "\n",
        "        # Now, compute the best path for each sample\n",
        "\n",
        "        # shape: (batch_size,)\n",
        "        seq_ends = mask.long().sum(dim=0) - 1\n",
        "        best_tags_list = []\n",
        "\n",
        "        for idx in range(batch_size):\n",
        "            # Find the tag which maximizes the score at the last timestep; this is our best tag\n",
        "            # for the last timestep\n",
        "            _, best_last_tag = score[idx].max(dim=0)\n",
        "            best_tags = [best_last_tag]\n",
        "\n",
        "            # We trace back where the best last tag comes from, append that to our best tag\n",
        "            # sequence, and trace it back again, and so on\n",
        "            for i, hist in enumerate(torch.flip(history[:seq_ends[idx]], dims=(0,))):\n",
        "                best_last_tag = hist[idx][best_tags[-1]]\n",
        "                best_tags.append(best_last_tag)\n",
        "\n",
        "            best_tags = torch.stack(best_tags, dim=0)\n",
        "\n",
        "            # Reverse the order because we start from the last timestep\n",
        "            best_tags_list.append(torch.flip(best_tags, dims=(0,)))\n",
        "\n",
        "        best_tags_list = nn.utils.rnn.pad_sequence(best_tags_list, batch_first=True, padding_value=0)\n",
        "\n",
        "        return best_tags_list"
      ]
    },
    {
      "cell_type": "markdown",
      "metadata": {
        "id": "1KdozEy46dT4"
      },
      "source": [
        "### CRFLayer \n",
        "- Forward: decide output logits basaed on backbone network  \n",
        "- Decode: decode based on CRF weights"
      ]
    },
    {
      "cell_type": "code",
      "execution_count": null,
      "metadata": {
        "id": "JNBE1vxOUJCe"
      },
      "outputs": [],
      "source": [
        "class CRFLayer(nn.Module):\n",
        "    def __init__(self, embedding_size, n_labels):\n",
        "\n",
        "        super(CRFLayer, self).__init__()\n",
        "        self.dropout = nn.Dropout(0.1)\n",
        "        self.output_dense = nn.Linear(embedding_size,n_labels)\n",
        "        self.crf = CRF(n_labels, batch_first=True)\n",
        "        self.token_from_subtoken = TokenFromSubtoken()\n",
        "\n",
        "    # Forward: decide output logits basaed on backbone network  \n",
        "    def forward(self, embedding, mask):\n",
        "        logits = self.output_dense(self.dropout(embedding))\n",
        "        logits = self.token_from_subtoken(logits, mask)\n",
        "        pad_mask = self.token_from_subtoken(mask.unsqueeze(-1), mask).squeeze(-1).bool()\n",
        "        return logits, pad_mask\n",
        "\n",
        "    # Decode: decode based on CRF weights \n",
        "    def decode(self, logits, pad_mask):\n",
        "        return self.crf.decode(logits, pad_mask)\n",
        "\n",
        "    # Evaluation Loss: calculate mean log likelihood of CRF layer\n",
        "    def eval_loss(self, logits, targets, pad_mask):\n",
        "        mean_log_likelihood = self.crf(logits, targets, pad_mask, reduction='sum').mean()\n",
        "        return -mean_log_likelihood\n"
      ]
    },
    {
      "cell_type": "markdown",
      "metadata": {
        "id": "i5ma5bWa7LaS"
      },
      "source": [
        "### NERModel"
      ]
    },
    {
      "cell_type": "code",
      "execution_count": null,
      "metadata": {
        "id": "VE7L4jPKTmPp"
      },
      "outputs": [],
      "source": [
        "class NERModel(nn.Module):\n",
        "\n",
        "    def __init__(self, n_labels:int, roberta_path:str):\n",
        "        super(NERModel,self).__init__()\n",
        "        self.roberta = XLMRobertaModel.from_pretrained(roberta_path)\n",
        "        self.crf = CRFLayer(self.roberta.config.hidden_size, n_labels)\n",
        "\n",
        "    # Forward: pass embedings to CRF layer in order to evaluate logits from suboword sequence\n",
        "    def forward(self, \n",
        "                input_ids:torch.Tensor,\n",
        "                attention_mask:torch.Tensor,\n",
        "                token_type_ids:torch.Tensor,\n",
        "                mask:torch.Tensor) -> torch.Tensor:\n",
        "\n",
        "        embedding = self.roberta(input_ids=input_ids,\n",
        "                                 attention_mask=attention_mask,\n",
        "                                 token_type_ids=token_type_ids)[0]\n",
        "        logits, pad_mask = self.crf(embedding, mask)\n",
        "        return logits, pad_mask\n",
        "\n",
        "    # Disable Gradient and Predict with model\n",
        "    @torch.no_grad()\n",
        "    def predict(self, inputs:Tuple[torch.Tensor]) -> torch.Tensor:\n",
        "        input_ids, attention_mask, token_type_ids, mask = inputs\n",
        "        logits, pad_mask = self(input_ids, attention_mask, token_type_ids, mask)\n",
        "        decoded = self.crf.decode(logits, pad_mask)\n",
        "        return decoded, pad_mask\n",
        "\n",
        "    # Decode: pass to crf decoder and decode based on CRF weights \n",
        "    def decode(self, logits, pad_mask):\n",
        "        \"\"\"Decode logits using CRF weights \n",
        "        \"\"\"\n",
        "        return self.crf.decode(logits, pad_mask) \n",
        "\n",
        "    # Evaluation Loss: pass to crf eval_loss and calculate mean log likelihood of CRF layer\n",
        "    def eval_loss(self, logits, targets, pad_mask):\n",
        "        return self.crf.eval_loss(logits, targets, pad_mask)\n",
        "\n",
        "    # Determine number of layers to be fine-tuned (!freeze) \n",
        "    def freeze_roberta(self, n_freeze:int=6):\n",
        "        for param in self.roberta.parameters():\n",
        "            param.requires_grad = False\n",
        "\n",
        "        for param in self.roberta.encoder.layer[n_freeze:].parameters():\n",
        "            param.requires_grad = True"
      ]
    },
    {
      "cell_type": "markdown",
      "metadata": {
        "id": "gBly2y20Kd_Q"
      },
      "source": [
        "### NERTokenizer\n",
        "- NLTK tokenizer along with XLMRobertaTokenizerFast tokenizer\n",
        "- Code adapted from https://github.com/ugurcanozalp/multilingual-ner/blob/main/multiner/utils/custom_tokenizer.py"
      ]
    },
    {
      "cell_type": "code",
      "execution_count": null,
      "metadata": {
        "id": "FtYHE7bFSg0X"
      },
      "outputs": [],
      "source": [
        "class NERTokenizer(object):\n",
        "\n",
        "    MAX_LEN=512\n",
        "    BATCH_LENGTH_LIMT = 380 # Max number of roberta tokens in one sentence.\n",
        "\n",
        "    # Modified version of http://stackoverflow.com/questions/36353125/nltk-regular-expression-tokenizer\n",
        "    PATTERN = r'''(?x)          # set flag to allow verbose regexps\n",
        "        (?:[A-Z]\\.)+        # abbreviations, e.g. U.S.A. or U.S.A # \n",
        "      | (?:\\d+\\.)           # numbers\n",
        "      | \\w+(?:[-.]\\w+)*     # words with optional internal hyphens\n",
        "      | \\$?\\d+(?:.\\d+)?%?   # currency and percentages, e.g. $12.40, 82%\n",
        "      | \\.\\.\\.              # ellipsis, and special chars below, includes ], [\n",
        "      | [-\\]\\[.,;\"'?():_`“”/°º‘’″…#$%()*+<>=@\\\\^_{}|~❑&§]\n",
        "    '''\n",
        "\n",
        "    def __init__(self, base_model:str, to_device:str='cpu'):\n",
        "        super(NERTokenizer,self).__init__()\n",
        "        self.roberta_tokenizer = XLMRobertaTokenizerFast.from_pretrained(base_model, do_lower_case=False)\n",
        "        self.to_device = to_device\n",
        "\n",
        "        self.word_tokenizer = RegexpTokenizer(self.PATTERN)\n",
        "        self.sent_tokenizer = nltk.data.load('tokenizers/punkt/english.pickle')\n",
        "\n",
        "    # tokenize batch of tokens\n",
        "    def tokenize_batch(self, inputs, pad_to = None) -> torch.Tensor:\n",
        "        batch = [inputs] if isinstance(inputs[0], str) else inputs\n",
        "\n",
        "        input_ids, attention_mask, token_type_ids, mask = [], [], [], []\n",
        "        for tokens in batch:\n",
        "            input_ids_tmp, attention_mask_tmp, token_type_ids_tmp, mask_tmp = self._tokenize_words(tokens)\n",
        "            input_ids.append(input_ids_tmp)\n",
        "            attention_mask.append(attention_mask_tmp)\n",
        "            token_type_ids.append(token_type_ids_tmp)\n",
        "            mask.append(mask_tmp)\n",
        "\n",
        "        input_ids = pad_sequence(input_ids, batch_first=True, padding_value=self.roberta_tokenizer.pad_token_id)\n",
        "        attention_mask = pad_sequence(attention_mask, batch_first=True, padding_value=0)\n",
        "        token_type_ids = pad_sequence(token_type_ids, batch_first=True, padding_value=0)\n",
        "        mask = pad_sequence(mask, batch_first=True, padding_value=0)\n",
        "\n",
        "        # truncate MAX_LEN\n",
        "        if input_ids.shape[-1]>self.MAX_LEN:\n",
        "            input_ids = input_ids[:,:,:self.MAX_LEN]\n",
        "            attention_mask = attention_mask[:,:,:self.MAX_LEN]\n",
        "            token_type_ids = token_type_ids[:,:,:self.MAX_LEN]\n",
        "            mask = mask[:,:,:self.MAX_LEN]\n",
        "        \n",
        "        # extend pad \n",
        "        elif pad_to is not None and pad_to>input_ids.shape[1]:\n",
        "            bs = input_ids.shape[0]\n",
        "            padlen = pad_to-input_ids.shape[1]\n",
        "            input_ids_append = torch.tensor([self.roberta_tokenizer.pad_token_id], dtype=torch.long).repeat([bs, padlen]).to(self.to_device)\n",
        "            input_ids = torch.cat([input_ids, input_ids_append], dim=-1)\n",
        "            attention_mask_append = torch.tensor([0], dtype=torch.long).repeat([bs, padlen]).to(self.to_device)\n",
        "            attention_mask = torch.cat([attention_mask, attention_mask_append], dim=-1)\n",
        "            token_type_ids_append = torch.tensor([0], dtype=torch.long).repeat([bs, padlen]).to(self.to_device)\n",
        "            token_type_ids = torch.cat([token_type_ids, token_type_ids_append], dim=-1)\n",
        "            mask_append = torch.tensor([0], dtype=torch.long).repeat([bs, padlen]).to(self.to_device)\n",
        "            mask = torch.cat([mask, mask_append], dim=-1)\n",
        "\n",
        "        # truncate pad\n",
        "        elif pad_to is not None and pad_to<input_ids.shape[1]:\n",
        "            input_ids = input_ids[:,:,:pad_to]\n",
        "            attention_mask = attention_mask[:,:,:pad_to]\n",
        "            token_type_ids = token_type_ids[:,:,:pad_to]\n",
        "            mask = mask[:,:,:pad_to]\n",
        "\n",
        "        if isinstance(inputs[0], str):\n",
        "            return input_ids[0], attention_mask[0], token_type_ids[0], mask[0]\n",
        "        else:\n",
        "            return input_ids, attention_mask, token_type_ids, mask\n",
        "\n",
        "    # tokenize list of words with roberta tokenizer\n",
        "    def _tokenize_words(self, words):\n",
        "        subtokenized = []\n",
        "        mask = []\n",
        "        for word in words:\n",
        "            subtokens = self.roberta_tokenizer.tokenize(word)\n",
        "            subtokenized+=subtokens\n",
        "            n_subtoken = len(subtokens)\n",
        "            if n_subtoken>=1:\n",
        "                mask = mask + [1] + [0]*(n_subtoken-1)\n",
        "\n",
        "        subtokenized = [self.roberta_tokenizer.cls_token] + subtokenized + [self.roberta_tokenizer.sep_token]\n",
        "        mask = [0] + mask + [0]\n",
        "\n",
        "        input_ids = torch.tensor(self.roberta_tokenizer.convert_tokens_to_ids(subtokenized), dtype=torch.long).to(self.to_device)\n",
        "        attention_mask = torch.ones(len(mask), dtype=torch.long).to(self.to_device)\n",
        "        token_type_ids = torch.zeros(len(mask), dtype=torch.long).to(self.to_device)\n",
        "        mask = torch.tensor(mask, dtype=torch.long).to(self.to_device)\n",
        "\n",
        "        return input_ids, attention_mask, token_type_ids, mask\n",
        "\n",
        "    # sent_to_token: yield each sentence token with positional span using nltk\n",
        "    def sent_to_token(self, raw_text):\n",
        "        for offset, ending in self.sent_tokenizer.span_tokenize(raw_text):\n",
        "            sub_text = raw_text[offset:ending]\n",
        "            words, spans = [], []\n",
        "            flush = False\n",
        "            total_subtoken = 0\n",
        "            for start, end in self.word_tokenizer.span_tokenize(sub_text):\n",
        "                flush = True\n",
        "                start += offset\n",
        "                end += offset\n",
        "                words.append(raw_text[start:end])\n",
        "                spans.append((start,end))\n",
        "                total_subtoken += len(self.roberta_tokenizer.tokenize(words[-1]))\n",
        "                if (total_subtoken > self.BATCH_LENGTH_LIMT): \n",
        "                    yield words[:-1],spans[:-1]\n",
        "                    spans = spans[len(spans)-1:]\n",
        "                    words = words[len(words)-1:]\n",
        "                    total_subtoken = sum([len(self.roberta_tokenizer.tokenize(word)) for word in words])\n",
        "                    flush = False\n",
        "\n",
        "            if flush and len(spans) > 0:\n",
        "                yield words,spans\n",
        "\n",
        "    # Extract (batch words span() from a raw sentence\n",
        "    def prepare_row_text(self, raw_text, batch_size=16):\n",
        "        words_list, spans_list = [], []\n",
        "        end_batch = False\n",
        "        for words, spans in self.sent_to_token(raw_text):\n",
        "            end_batch = True\n",
        "            words_list.append(words)\n",
        "            spans_list.append(spans)\n",
        "            if len(spans_list) >= batch_size:\n",
        "                input_ids, attention_mask, token_type_ids, mask = self.tokenize_batch(words_list)\n",
        "                yield (input_ids, attention_mask, token_type_ids, mask), words_list, spans_list\n",
        "                words_list, spans_list = [], []\n",
        "        if end_batch and len(words_list) > 0:\n",
        "            input_ids, attention_mask, token_type_ids, mask = self.tokenize_batch(words_list)\n",
        "            yield (input_ids, attention_mask, token_type_ids, mask), words_list, spans_list\n"
      ]
    },
    {
      "cell_type": "markdown",
      "metadata": {
        "id": "Sxw6sJOpLShZ"
      },
      "source": [
        "### NERDataset\n",
        "- Pythorch Compatible Dataset and Dataloader"
      ]
    },
    {
      "cell_type": "code",
      "execution_count": null,
      "metadata": {
        "id": "AM8jQXF3F28x"
      },
      "outputs": [],
      "source": [
        "# Pytorch Dataset\n",
        "class NERDataset(Dataset):\n",
        "\n",
        "    def __init__(self, data_path:str, label_tags: List[str], base_model:str=\"xlm-roberta-base\", \n",
        "            default_label=0, max_length:int=512, to_device=\"cpu\"):\n",
        "        self.tokenizer = NERTokenizer(base_model=base_model, to_device=to_device)\n",
        "        self.label_tags = label_tags        \n",
        "        self.name_to_label = {x: i for i, x in enumerate(self.label_tags)}\n",
        "        self.default_label = default_label\n",
        "        self.max_length = max_length\n",
        "\n",
        "\n",
        "        # open file (train, test or val)\n",
        "        with open(data_path,'r') as f:\n",
        "            data_text = f.read()\n",
        "        self.data = []\n",
        "\n",
        "        # the loop notices the change of sentence with double newline \n",
        "        for sentence in filter(lambda x: len(x)>2, data_text.split('\\n\\n')):\n",
        "            sample = []\n",
        "            # each word laid in sepertaed lines\n",
        "            for wordline in sentence.split('\\n'):\n",
        "                if wordline=='':\n",
        "                    continue\n",
        "                # the word and label are seperated from each other with tab \n",
        "                word, label = wordline.split('\\t')\n",
        "                sample.append((word, label))\n",
        "            self.data.append(sample)\n",
        "\n",
        "    # len of dataset\n",
        "    def __len__(self):\n",
        "        return len(self.data)\n",
        "\n",
        "\n",
        "    def __getitem__(self, idx):\n",
        "        item = self.data[idx]\n",
        "        words, labels = list(zip(*item))\n",
        "        \n",
        "        labels_idx = [self.name_to_label.get(x, self.default_label) for x in labels]  \n",
        "        y = torch.tensor(labels_idx, dtype=torch.long)\n",
        "        diff = self.max_length - y.shape[-1]\n",
        "        y = torch.nn.functional.pad(y, (0, diff), value=self.default_label)\n",
        "        X = self.tokenizer.tokenize_batch(list(words), pad_to=self.max_length)\n",
        "\n",
        "        return X, y "
      ]
    },
    {
      "cell_type": "markdown",
      "metadata": {
        "id": "shrgxfjlM2qw"
      },
      "source": [
        "### NERWrapper\n",
        "- Lightining Wrapper for NER Model"
      ]
    },
    {
      "cell_type": "code",
      "execution_count": null,
      "metadata": {
        "id": "uLQUzO8qGRA-"
      },
      "outputs": [],
      "source": [
        "# Lightining Wrapper for NER Model\n",
        "\n",
        "class NERWrapper(pl.LightningModule):\n",
        "    def __init__(self,\n",
        "        learning_rate = 2e-5,\n",
        "        weight_decay = 0.0,\n",
        "        batch_size = 16,\n",
        "        freeze_layers = 8,\n",
        "        tags = tags_table,\n",
        "        train_path = \"./data/train.txt\",\n",
        "        val_path = \"./data/val.txt\",\n",
        "        test_path =\"./data/test.txt\",\n",
        "        pretrained_path = None,\n",
        "        *args, **kwargs\n",
        "    ):\n",
        "        \n",
        "        super(NERWrapper,self).__init__()\n",
        "        self.save_hyperparameters('learning_rate', 'weight_decay', 'batch_size')\n",
        "        self.tags, self.train_path, self.val_path, self.test_path = tags, train_path, val_path, test_path\n",
        "        self.model = NERModel(n_labels=len(self.tags), roberta_path=\"xlm-roberta-base\")\n",
        "\n",
        "        if pretrained_path is not None:\n",
        "            self.model.load_state_dict(torch.load(pretrained_path))\n",
        "        self.model.freeze_roberta(freeze_layers)\n",
        "\n",
        "    def forward(self, *args, **kwargs):\n",
        "        return self.model.forward(*args, **kwargs)\n",
        "\n",
        "    def _step(self, batch, batch_idx):\n",
        "        (input_ids, attention_mask, token_type_ids, mask), labels = batch\n",
        "        logits, pad_mask = self.model(input_ids, attention_mask, token_type_ids, mask)\n",
        "        labels = labels[:, :logits.shape[1]]\n",
        "        loss = self.model.eval_loss(logits, labels, pad_mask)\n",
        "        preds_tag_idx = self.model.decode(logits, pad_mask)\n",
        "        preds_tag = [[self.tags[start.item()] for m, start in zip(mask, sample) if m] for mask, sample in zip(pad_mask, preds_tag_idx)]\n",
        "        labels_tag = [[self.tags[start.item()] for m, start in zip(mask, sample) if m] for mask, sample in zip(pad_mask, labels)]\n",
        "        tensorboard_logs = {'batch_loss': loss}\n",
        "        for metric, value in tensorboard_logs.items():\n",
        "            self.log(metric, value, prog_bar=True)\n",
        "        return {'loss': loss, \"preds\": preds_tag, \"labels\": labels_tag}\n",
        "\n",
        "    def training_step(self, batch, batch_idx):\n",
        "        return self._step(batch, batch_idx)['loss']\n",
        "\n",
        "    def validation_step(self, batch, batch_idx, dataloader_idx=0):\n",
        "        return self._step(batch, batch_idx)\n",
        "\n",
        "    def test_step(self, batch, batch_idx, dataloader_idx=0):\n",
        "        return self._step(batch, batch_idx)\n",
        "\n",
        "    def configure_optimizers(self):\n",
        "        no_decay_keywords = [\"bias\", \"LayerNorm.weight\"]\n",
        "        optimizer_grouped_parameters = [\n",
        "            {\n",
        "                \"params\": [p for n,p in self.model.named_parameters() if not any(nd in n for nd in no_decay_keywords)],\n",
        "                \"weight_decay_rate\": self.hparams.weight_decay,\n",
        "                \"lr\": self.hparams.learning_rate,\n",
        "            },\n",
        "            {\n",
        "                \"params\": [p for n,p in self.model.named_parameters() if any(nd in n for nd in no_decay_keywords)],\n",
        "                \"weight_decay_rate\": 0,\n",
        "                \"lr\": self.hparams.learning_rate,\n",
        "            }\n",
        "        ]\n",
        "        optimizer = torch.optim.AdamW(optimizer_grouped_parameters)\n",
        "        return optimizer\n",
        "\n",
        "    def _dataloader(self, path, shuffle=False):\n",
        "        dataset = NERDataset(path, label_tags = self.tags, default_label=0, to_device=self.device)\n",
        "        return DataLoader(dataset, drop_last=False, shuffle=shuffle, batch_size=self.hparams.batch_size, \n",
        "            worker_init_fn=np.random.seed(0))\n",
        "\n",
        "    def train_dataloader(self):\n",
        "        return self._dataloader(self.train_path, True)\n",
        "\n",
        "    def val_dataloader(self):\n",
        "        return self._dataloader(self.val_path)\n",
        "\n",
        "    def test_dataloader(self):\n",
        "        return self._dataloader(self.test_path)\n",
        "\n",
        "\n",
        "    def _epoch_end (self, outputs):\n",
        "        preds = sum([x['preds'] for x in outputs], [])\n",
        "        labels = sum([x['labels'] for x in outputs], [])\n",
        "        loss = torch.stack([x['loss'] for x in outputs]).mean()\n",
        "        acc = accuracy_score(labels, preds)\n",
        "        precision = precision_score(labels, preds, mode='strict', scheme=IOB2, average='micro', zero_division=1)\n",
        "        recall = recall_score(labels, preds, mode='strict', scheme=IOB2, average='micro', zero_division=1)\n",
        "        f1 = f1_score(labels, preds, mode='strict', scheme=IOB2, average='micro', zero_division=1)\n",
        "        tensorboard_logs = {'loss': loss, 'acc': acc, 'precision': precision, 'recall': recall, 'f1': f1}\n",
        "        return tensorboard_logs\n",
        "\n",
        "    def validation_epoch_end(self, outputs):\n",
        "        val_logs = self._epoch_end(outputs)\n",
        "        tensorboard_logs = {'val_loss': val_logs['loss'], 'val_accuracy': val_logs['acc'], 'val_precision': val_logs['precision'], 'val_recall': val_logs['recall'], 'val_F1': val_logs['f1']}\n",
        "        for metric, value in tensorboard_logs.items():\n",
        "            self.log(metric, value, prog_bar=True)\n",
        " \n",
        "    def test_epoch_end(self, outputs):\n",
        "        test_logs = self._epoch_end(outputs)\n",
        "        tensorboard_logs = {'test_loss': test_logs['loss'], 'test_accuracy': test_logs['acc'], 'test_precision': test_logs['precision'], 'test_recall': test_logs['recall'], 'test_F1': test_logs['f1']}\n",
        "        for metric, value in tensorboard_logs.items():\n",
        "            self.log(metric, value, prog_bar=True)\n"
      ]
    },
    {
      "cell_type": "markdown",
      "metadata": {
        "id": "JJQ8xMLaNUX_"
      },
      "source": [
        "### NER\n",
        "NER Interface"
      ]
    },
    {
      "cell_type": "code",
      "execution_count": null,
      "metadata": {
        "id": "Q1UKVydicabm"
      },
      "outputs": [],
      "source": [
        "class NER(object):\n",
        "\n",
        "    def __init__(self, model_path, model_name = MODEL_NAME, tags = tags_table):\n",
        "        \n",
        "        self.tags = tags\n",
        "        self.device = \"cuda\" if torch.cuda.is_available() else \"cpu\"\n",
        "        roberta_path = \"xlm-roberta-base\"\n",
        "        self.model = NERModel(n_labels=len(self.tags), roberta_path=roberta_path).to(self.device)\n",
        "        state_dict = torch.load(os.path.join(model_path, model_name))\n",
        "        self.model.load_state_dict(state_dict, strict=False)\n",
        "        self.model.eval()\n",
        "        self.tokenizer = NERTokenizer(base_model=roberta_path, to_device=self.device)\n",
        "\n",
        "    @torch.no_grad()\n",
        "    def __call__(self, raw_text):\n",
        "\n",
        "        outputs_flat, spans_flat, entities = [], [], []\n",
        "        for batch, words, spans in self.tokenizer.prepare_row_text(raw_text):\n",
        "            output, pad_mask = self.model.predict(batch)\n",
        "            outputs_flat.extend(output[pad_mask.bool()].reshape(-1).tolist())\n",
        "            spans_flat += sum(spans, [])\n",
        "\n",
        "        for tag_idx,(start,end) in zip(outputs_flat,spans_flat):\n",
        "            tag = self.tags[tag_idx]\n",
        "            if tag != 'O':\n",
        "                entities.append({'Text': raw_text[start:end], 'Tag': tag})\n",
        "\n",
        "        return entities"
      ]
    },
    {
      "cell_type": "markdown",
      "metadata": {
        "id": "5CsN8qC1Nfg8"
      },
      "source": [
        "## Train, and Test Model"
      ]
    },
    {
      "cell_type": "code",
      "source": [
        "# Save Model\n",
        "\n",
        "def save():\n",
        "    CKPT_PATH = checkpoint_callback.best_model_path\n",
        "    print(CKPT_PATH)\n",
        "    plmodule = NERWrapper()\n",
        "    plmodule.load_state_dict(torch.load(CKPT_PATH)['state_dict'])\n",
        "\n",
        "    if not os.path.exists(MODEL_PATH):\n",
        "        os.makedirs(MODEL_PATH)\n",
        "    torch.save(plmodule.model.state_dict(), os.path.join(MODEL_PATH, MODEL_NAME))\n",
        "\n",
        "    with open(os.path.join(MODEL_PATH, \"tags.txt\"), \"w\") as f:\n",
        "        for tag in plmodule.tags:\n",
        "\t\t        f.write(tag+'\\n')"
      ],
      "metadata": {
        "id": "ZNdxmAX2NQ_c"
      },
      "execution_count": null,
      "outputs": []
    },
    {
      "cell_type": "code",
      "execution_count": null,
      "metadata": {
        "colab": {
          "base_uri": "https://localhost:8080/"
        },
        "outputId": "e4979187-adb4-4a82-9212-f1261246dce6",
        "id": "J8ZbdqRzRUnZ"
      },
      "outputs": [
        {
          "output_type": "stream",
          "name": "stderr",
          "text": [
            "Some weights of the model checkpoint at xlm-roberta-base were not used when initializing XLMRobertaModel: ['lm_head.bias', 'lm_head.dense.weight', 'lm_head.layer_norm.weight', 'lm_head.layer_norm.bias', 'lm_head.dense.bias', 'lm_head.decoder.weight']\n",
            "- This IS expected if you are initializing XLMRobertaModel from the checkpoint of a model trained on another task or with another architecture (e.g. initializing a BertForSequenceClassification model from a BertForPreTraining model).\n",
            "- This IS NOT expected if you are initializing XLMRobertaModel from the checkpoint of a model that you expect to be exactly identical (initializing a BertForSequenceClassification model from a BertForSequenceClassification model).\n",
            "GPU available: True, used: True\n",
            "TPU available: False, using: 0 TPU cores\n",
            "IPU available: False, using: 0 IPUs\n"
          ]
        }
      ],
      "source": [
        "from pytorch_lightning.callbacks import ModelCheckpoint\n",
        "checkpoint_callback = ModelCheckpoint(save_weights_only=True)\n",
        "\n",
        "plmodel = NERWrapper(do_adv=False)\n",
        "trainer = pl.Trainer(callbacks=[checkpoint_callback], gpus=1, max_epochs=1, log_every_n_steps=1)"
      ]
    },
    {
      "cell_type": "code",
      "source": [
        "trainer.fit(plmodel)"
      ],
      "metadata": {
        "colab": {
          "base_uri": "https://localhost:8080/",
          "height": 223,
          "referenced_widgets": [
            "e11f60c1a419426c8162f88f54751998",
            "f51b4de879ec48cc939de8a9244aa968",
            "b19f4aba11d84a658df19c7158950af4",
            "e47694ae4ff0407bb6412826dd38cadd",
            "da760b953328496ea18e97b185416253",
            "f3e0212f54b24bc4aeb220f3534bd56f",
            "3593ac9e24964d3899d3092efc3a2f13",
            "b89c0f57b6174d6d8c835226eb86329f",
            "279137a3b883470c8472082b86c95a6e",
            "028cc3b0eeb44d8184f9102028d4219f",
            "1a91bd5d7e6a4ca5952ef2985d724392",
            "f8f88b98127a49478ef90b1d73206d4b",
            "3dfa141d4ca44ce781c80a32d92fea0b",
            "656e4f95cbf24d938a32032f831f897e",
            "45ed48a3965f4e03b1edf4899e7b2b90",
            "d4d82a9ba5394d8ba6be43c85a30d606",
            "02570ee309ee4ca0b13dec0117abc65e",
            "064bb60ab9c14f5399b152c8e6e1a702",
            "88d7c4be4f5a4efabc24939de364c2b6",
            "d1add36e301748b3b8e4897a2aa7b9b7",
            "ec053e7a473e40eab8dc735e4ba59437",
            "f33214d4bfe94a8abf7329adb23918e7",
            "4b5087b7e2a1409692a89a503dcd2946",
            "58880c686eba4c6ba0d2bee136bd7154",
            "93f3388c3d1d43bd952edd7a0a477a41",
            "97d258652bf64ddd942f54f7ae4b4575",
            "991cb2ee3382472293f97ae0b5c143cc",
            "4d257f1d1e3842d6b93730236a8f8264",
            "0e1b930c71e2415cbff2b7e984a837e3",
            "97f07f3464cd4a6faff42c199735e5a0",
            "f65c1821b846474f985ed3d1e7a67a38",
            "6c158b37d21c450ea5d6b6b37f8911cd",
            "d683e3f6ecd34466a2eaa7f99ec92b08"
          ]
        },
        "id": "PTXBaH8oPv_-",
        "outputId": "a1b48b13-1e37-47f5-f9c3-ce8ea8078405"
      },
      "execution_count": null,
      "outputs": [
        {
          "output_type": "stream",
          "name": "stderr",
          "text": [
            "LOCAL_RANK: 0 - CUDA_VISIBLE_DEVICES: [0]\n",
            "\n",
            "  | Name  | Type     | Params\n",
            "-----------------------------------\n",
            "0 | model | NERModel | 278 M \n",
            "-----------------------------------\n",
            "28.4 M    Trainable params\n",
            "249 M     Non-trainable params\n",
            "278 M     Total params\n",
            "1,112.184 Total estimated model params size (MB)\n"
          ]
        },
        {
          "output_type": "display_data",
          "data": {
            "application/vnd.jupyter.widget-view+json": {
              "model_id": "e11f60c1a419426c8162f88f54751998",
              "version_minor": 0,
              "version_major": 2
            },
            "text/plain": [
              "Validation sanity check: 0it [00:00, ?it/s]"
            ]
          },
          "metadata": {}
        },
        {
          "output_type": "display_data",
          "data": {
            "application/vnd.jupyter.widget-view+json": {
              "model_id": "f8f88b98127a49478ef90b1d73206d4b",
              "version_minor": 0,
              "version_major": 2
            },
            "text/plain": [
              "Training: 0it [00:00, ?it/s]"
            ]
          },
          "metadata": {}
        },
        {
          "output_type": "display_data",
          "data": {
            "application/vnd.jupyter.widget-view+json": {
              "model_id": "4b5087b7e2a1409692a89a503dcd2946",
              "version_minor": 0,
              "version_major": 2
            },
            "text/plain": [
              "Validating: 0it [00:00, ?it/s]"
            ]
          },
          "metadata": {}
        }
      ]
    },
    {
      "cell_type": "code",
      "source": [
        "! mkdir model"
      ],
      "metadata": {
        "id": "2Z7YkOGiji4I"
      },
      "execution_count": null,
      "outputs": []
    },
    {
      "cell_type": "code",
      "source": [
        "torch.save(plmodel.model.state_dict(), os.path.join(MODEL_PATH, 'plmodel.pth'))"
      ],
      "metadata": {
        "id": "WxQSfTYWQd8k"
      },
      "execution_count": null,
      "outputs": []
    },
    {
      "cell_type": "code",
      "execution_count": null,
      "metadata": {
        "colab": {
          "base_uri": "https://localhost:8080/",
          "height": 260,
          "referenced_widgets": [
            "43debef97425410b853f1207e9e857e6",
            "9f9e8bd42f6e410a93a2a7e3ed72372a",
            "24c41d58b8cc489eb1bccbecf59f0710",
            "fc60f035fe174c7ab7865324babef73f",
            "7d8fe661037f412084b8460a5020abf5",
            "6e6d845979b1488e9569ef5f6e9a6833",
            "3d9ef9be3ba449a58b5fc5b6b95003a4",
            "faf170783ad142869120616ea6cf1382",
            "9c520e25945c411f8fb92efd7393e595",
            "9b96817c2f3942a0abad5259772c9817",
            "9055b66eaa774f089ecaf60cf33e2fa7"
          ]
        },
        "outputId": "2981d199-21cf-449a-b21b-ef23657f3c82",
        "id": "4706zN-xRUnb"
      },
      "outputs": [
        {
          "output_type": "stream",
          "name": "stderr",
          "text": [
            "LOCAL_RANK: 0 - CUDA_VISIBLE_DEVICES: [0]\n"
          ]
        },
        {
          "output_type": "display_data",
          "data": {
            "application/vnd.jupyter.widget-view+json": {
              "model_id": "43debef97425410b853f1207e9e857e6",
              "version_minor": 0,
              "version_major": 2
            },
            "text/plain": [
              "Testing: 0it [00:00, ?it/s]"
            ]
          },
          "metadata": {}
        },
        {
          "output_type": "stream",
          "name": "stdout",
          "text": [
            "--------------------------------------------------------------------------------\n",
            "DATALOADER:0 TEST RESULTS\n",
            "{'batch_loss': 10.22092342376709,\n",
            " 'test_F1': 0.9221241270259587,\n",
            " 'test_accuracy': 0.9916845560073853,\n",
            " 'test_loss': 10.20350456237793,\n",
            " 'test_precision': 0.9174095437860514,\n",
            " 'test_recall': 0.9268874172185431}\n",
            "--------------------------------------------------------------------------------\n",
            "[{'batch_loss': 10.22092342376709, 'test_loss': 10.20350456237793, 'test_accuracy': 0.9916845560073853, 'test_precision': 0.9174095437860514, 'test_recall': 0.9268874172185431, 'test_F1': 0.9221241270259587}]\n"
          ]
        }
      ],
      "source": [
        "plmodel.eval()\n",
        "result = trainer.test(plmodel)\n",
        "print(result)"
      ]
    },
    {
      "cell_type": "markdown",
      "metadata": {
        "id": "QmyhSl6qPPqV"
      },
      "source": [
        "### Test with Interface"
      ]
    },
    {
      "cell_type": "code",
      "execution_count": null,
      "metadata": {
        "id": "uGF0w7aIYHOX"
      },
      "outputs": [],
      "source": [
        "# del ner\n",
        "ner = NER(model_path = MODEL_PATH, model_name = MODEL_NAME, tags = tags_table) # Load pretrained model."
      ]
    },
    {
      "cell_type": "code",
      "execution_count": null,
      "metadata": {
        "id": "SyqtKUlSYgvJ"
      },
      "outputs": [],
      "source": [
        "text = \"\"\"his playlist includes sonny sharrock , gza , country teasers and the notorious b.i.g.\"\"\"\n",
        "result = ner(text)\n",
        "result"
      ]
    }
  ],
  "metadata": {
    "accelerator": "GPU",
    "colab": {
      "collapsed_sections": [],
      "name": "Roberta_NER_(1) (1).ipynb",
      "provenance": [],
      "toc_visible": true
    },
    "kernelspec": {
      "display_name": "Python 3",
      "language": "python",
      "name": "python3"
    },
    "language_info": {
      "codemirror_mode": {
        "name": "ipython",
        "version": 3
      },
      "file_extension": ".py",
      "mimetype": "text/x-python",
      "name": "python",
      "nbconvert_exporter": "python",
      "pygments_lexer": "ipython3",
      "version": "3.6.5"
    },
    "widgets": {
      "application/vnd.jupyter.widget-state+json": {}
    }
  },
  "nbformat": 4,
  "nbformat_minor": 0
}